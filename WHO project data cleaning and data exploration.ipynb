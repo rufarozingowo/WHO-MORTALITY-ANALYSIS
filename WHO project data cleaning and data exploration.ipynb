{
 "cells": [
  {
   "cell_type": "markdown",
   "id": "7036a5b3",
   "metadata": {},
   "source": [
    "# DATA CLEANING AND DATA PREPARATION"
   ]
  },
  {
   "cell_type": "markdown",
   "id": "50d684c1",
   "metadata": {},
   "source": [
    "### Importing libraries"
   ]
  },
  {
   "cell_type": "code",
   "execution_count": 1,
   "id": "ce6a9085",
   "metadata": {},
   "outputs": [],
   "source": [
    "import pandas as pd"
   ]
  },
  {
   "cell_type": "code",
   "execution_count": 2,
   "id": "6732479a",
   "metadata": {},
   "outputs": [],
   "source": [
    "import numpy as np"
   ]
  },
  {
   "cell_type": "code",
   "execution_count": 3,
   "id": "b358b3c4",
   "metadata": {},
   "outputs": [],
   "source": [
    "import matplotlib.pyplot as plt"
   ]
  },
  {
   "cell_type": "markdown",
   "id": "469720cc",
   "metadata": {},
   "source": [
    "### Loading Data"
   ]
  },
  {
   "cell_type": "code",
   "execution_count": 4,
   "id": "7051d9ec",
   "metadata": {},
   "outputs": [
    {
     "name": "stderr",
     "output_type": "stream",
     "text": [
      "C:\\Users\\uzing\\AppData\\Local\\Temp\\ipykernel_13460\\2025076236.py:1: DtypeWarning: Columns (2) have mixed types. Specify dtype option on import or set low_memory=False.\n",
      "  pd.read_table(\"C:\\\\Users\\\\uzing\\\\Desktop\\\\dashboard\\\\mortality_data\", sep=\",\")\n"
     ]
    },
    {
     "data": {
      "text/html": [
       "<div>\n",
       "<style scoped>\n",
       "    .dataframe tbody tr th:only-of-type {\n",
       "        vertical-align: middle;\n",
       "    }\n",
       "\n",
       "    .dataframe tbody tr th {\n",
       "        vertical-align: top;\n",
       "    }\n",
       "\n",
       "    .dataframe thead th {\n",
       "        text-align: right;\n",
       "    }\n",
       "</style>\n",
       "<table border=\"1\" class=\"dataframe\">\n",
       "  <thead>\n",
       "    <tr style=\"text-align: right;\">\n",
       "      <th></th>\n",
       "      <th>Country</th>\n",
       "      <th>Admin1</th>\n",
       "      <th>SubDiv</th>\n",
       "      <th>Year</th>\n",
       "      <th>List</th>\n",
       "      <th>Cause</th>\n",
       "      <th>Sex</th>\n",
       "      <th>Frmat</th>\n",
       "      <th>IM_Frmat</th>\n",
       "      <th>Deaths1</th>\n",
       "      <th>...</th>\n",
       "      <th>Deaths21</th>\n",
       "      <th>Deaths22</th>\n",
       "      <th>Deaths23</th>\n",
       "      <th>Deaths24</th>\n",
       "      <th>Deaths25</th>\n",
       "      <th>Deaths26</th>\n",
       "      <th>IM_Deaths1</th>\n",
       "      <th>IM_Deaths2</th>\n",
       "      <th>IM_Deaths3</th>\n",
       "      <th>IM_Deaths4</th>\n",
       "    </tr>\n",
       "  </thead>\n",
       "  <tbody>\n",
       "    <tr>\n",
       "      <th>0</th>\n",
       "      <td>4303</td>\n",
       "      <td>NaN</td>\n",
       "      <td>NaN</td>\n",
       "      <td>2017</td>\n",
       "      <td>101</td>\n",
       "      <td>1000</td>\n",
       "      <td>1</td>\n",
       "      <td>1</td>\n",
       "      <td>8</td>\n",
       "      <td>281784</td>\n",
       "      <td>...</td>\n",
       "      <td>43174.0</td>\n",
       "      <td>29856.0</td>\n",
       "      <td>29184.0</td>\n",
       "      <td>NaN</td>\n",
       "      <td>NaN</td>\n",
       "      <td>68.0</td>\n",
       "      <td>1608.0</td>\n",
       "      <td>NaN</td>\n",
       "      <td>NaN</td>\n",
       "      <td>NaN</td>\n",
       "    </tr>\n",
       "    <tr>\n",
       "      <th>1</th>\n",
       "      <td>4303</td>\n",
       "      <td>NaN</td>\n",
       "      <td>NaN</td>\n",
       "      <td>2017</td>\n",
       "      <td>101</td>\n",
       "      <td>1000</td>\n",
       "      <td>2</td>\n",
       "      <td>1</td>\n",
       "      <td>8</td>\n",
       "      <td>292339</td>\n",
       "      <td>...</td>\n",
       "      <td>56037.0</td>\n",
       "      <td>52655.0</td>\n",
       "      <td>88271.0</td>\n",
       "      <td>NaN</td>\n",
       "      <td>NaN</td>\n",
       "      <td>19.0</td>\n",
       "      <td>1178.0</td>\n",
       "      <td>NaN</td>\n",
       "      <td>NaN</td>\n",
       "      <td>NaN</td>\n",
       "    </tr>\n",
       "    <tr>\n",
       "      <th>2</th>\n",
       "      <td>4303</td>\n",
       "      <td>NaN</td>\n",
       "      <td>NaN</td>\n",
       "      <td>2017</td>\n",
       "      <td>101</td>\n",
       "      <td>1001</td>\n",
       "      <td>1</td>\n",
       "      <td>1</td>\n",
       "      <td>8</td>\n",
       "      <td>6198</td>\n",
       "      <td>...</td>\n",
       "      <td>62.0</td>\n",
       "      <td>36.0</td>\n",
       "      <td>15.0</td>\n",
       "      <td>NaN</td>\n",
       "      <td>NaN</td>\n",
       "      <td>1.0</td>\n",
       "      <td>41.0</td>\n",
       "      <td>NaN</td>\n",
       "      <td>NaN</td>\n",
       "      <td>NaN</td>\n",
       "    </tr>\n",
       "    <tr>\n",
       "      <th>3</th>\n",
       "      <td>4303</td>\n",
       "      <td>NaN</td>\n",
       "      <td>NaN</td>\n",
       "      <td>2017</td>\n",
       "      <td>101</td>\n",
       "      <td>1001</td>\n",
       "      <td>2</td>\n",
       "      <td>1</td>\n",
       "      <td>8</td>\n",
       "      <td>2516</td>\n",
       "      <td>...</td>\n",
       "      <td>86.0</td>\n",
       "      <td>45.0</td>\n",
       "      <td>29.0</td>\n",
       "      <td>NaN</td>\n",
       "      <td>NaN</td>\n",
       "      <td>0.0</td>\n",
       "      <td>29.0</td>\n",
       "      <td>NaN</td>\n",
       "      <td>NaN</td>\n",
       "      <td>NaN</td>\n",
       "    </tr>\n",
       "    <tr>\n",
       "      <th>4</th>\n",
       "      <td>4303</td>\n",
       "      <td>NaN</td>\n",
       "      <td>NaN</td>\n",
       "      <td>2017</td>\n",
       "      <td>101</td>\n",
       "      <td>1002</td>\n",
       "      <td>1</td>\n",
       "      <td>1</td>\n",
       "      <td>8</td>\n",
       "      <td>0</td>\n",
       "      <td>...</td>\n",
       "      <td>0.0</td>\n",
       "      <td>0.0</td>\n",
       "      <td>0.0</td>\n",
       "      <td>NaN</td>\n",
       "      <td>NaN</td>\n",
       "      <td>0.0</td>\n",
       "      <td>0.0</td>\n",
       "      <td>NaN</td>\n",
       "      <td>NaN</td>\n",
       "      <td>NaN</td>\n",
       "    </tr>\n",
       "    <tr>\n",
       "      <th>...</th>\n",
       "      <td>...</td>\n",
       "      <td>...</td>\n",
       "      <td>...</td>\n",
       "      <td>...</td>\n",
       "      <td>...</td>\n",
       "      <td>...</td>\n",
       "      <td>...</td>\n",
       "      <td>...</td>\n",
       "      <td>...</td>\n",
       "      <td>...</td>\n",
       "      <td>...</td>\n",
       "      <td>...</td>\n",
       "      <td>...</td>\n",
       "      <td>...</td>\n",
       "      <td>...</td>\n",
       "      <td>...</td>\n",
       "      <td>...</td>\n",
       "      <td>...</td>\n",
       "      <td>...</td>\n",
       "      <td>...</td>\n",
       "      <td>...</td>\n",
       "    </tr>\n",
       "    <tr>\n",
       "      <th>811503</th>\n",
       "      <td>5020</td>\n",
       "      <td>NaN</td>\n",
       "      <td>NaN</td>\n",
       "      <td>2021</td>\n",
       "      <td>104</td>\n",
       "      <td>Y871</td>\n",
       "      <td>2</td>\n",
       "      <td>0</td>\n",
       "      <td>1</td>\n",
       "      <td>1</td>\n",
       "      <td>...</td>\n",
       "      <td>0.0</td>\n",
       "      <td>0.0</td>\n",
       "      <td>0.0</td>\n",
       "      <td>0.0</td>\n",
       "      <td>0.0</td>\n",
       "      <td>0.0</td>\n",
       "      <td>0.0</td>\n",
       "      <td>0.0</td>\n",
       "      <td>0.0</td>\n",
       "      <td>0.0</td>\n",
       "    </tr>\n",
       "    <tr>\n",
       "      <th>811504</th>\n",
       "      <td>5020</td>\n",
       "      <td>NaN</td>\n",
       "      <td>NaN</td>\n",
       "      <td>2021</td>\n",
       "      <td>104</td>\n",
       "      <td>Y872</td>\n",
       "      <td>1</td>\n",
       "      <td>0</td>\n",
       "      <td>1</td>\n",
       "      <td>1</td>\n",
       "      <td>...</td>\n",
       "      <td>0.0</td>\n",
       "      <td>0.0</td>\n",
       "      <td>0.0</td>\n",
       "      <td>0.0</td>\n",
       "      <td>0.0</td>\n",
       "      <td>0.0</td>\n",
       "      <td>0.0</td>\n",
       "      <td>0.0</td>\n",
       "      <td>0.0</td>\n",
       "      <td>0.0</td>\n",
       "    </tr>\n",
       "    <tr>\n",
       "      <th>811505</th>\n",
       "      <td>5020</td>\n",
       "      <td>NaN</td>\n",
       "      <td>NaN</td>\n",
       "      <td>2021</td>\n",
       "      <td>104</td>\n",
       "      <td>Y880</td>\n",
       "      <td>1</td>\n",
       "      <td>0</td>\n",
       "      <td>1</td>\n",
       "      <td>1</td>\n",
       "      <td>...</td>\n",
       "      <td>0.0</td>\n",
       "      <td>0.0</td>\n",
       "      <td>0.0</td>\n",
       "      <td>0.0</td>\n",
       "      <td>0.0</td>\n",
       "      <td>0.0</td>\n",
       "      <td>0.0</td>\n",
       "      <td>0.0</td>\n",
       "      <td>0.0</td>\n",
       "      <td>0.0</td>\n",
       "    </tr>\n",
       "    <tr>\n",
       "      <th>811506</th>\n",
       "      <td>5020</td>\n",
       "      <td>NaN</td>\n",
       "      <td>NaN</td>\n",
       "      <td>2021</td>\n",
       "      <td>104</td>\n",
       "      <td>Y883</td>\n",
       "      <td>1</td>\n",
       "      <td>0</td>\n",
       "      <td>1</td>\n",
       "      <td>3</td>\n",
       "      <td>...</td>\n",
       "      <td>1.0</td>\n",
       "      <td>0.0</td>\n",
       "      <td>0.0</td>\n",
       "      <td>1.0</td>\n",
       "      <td>1.0</td>\n",
       "      <td>0.0</td>\n",
       "      <td>0.0</td>\n",
       "      <td>0.0</td>\n",
       "      <td>0.0</td>\n",
       "      <td>0.0</td>\n",
       "    </tr>\n",
       "    <tr>\n",
       "      <th>811507</th>\n",
       "      <td>5020</td>\n",
       "      <td>NaN</td>\n",
       "      <td>NaN</td>\n",
       "      <td>2021</td>\n",
       "      <td>104</td>\n",
       "      <td>Y883</td>\n",
       "      <td>2</td>\n",
       "      <td>0</td>\n",
       "      <td>1</td>\n",
       "      <td>5</td>\n",
       "      <td>...</td>\n",
       "      <td>0.0</td>\n",
       "      <td>1.0</td>\n",
       "      <td>1.0</td>\n",
       "      <td>0.0</td>\n",
       "      <td>0.0</td>\n",
       "      <td>0.0</td>\n",
       "      <td>0.0</td>\n",
       "      <td>0.0</td>\n",
       "      <td>0.0</td>\n",
       "      <td>0.0</td>\n",
       "    </tr>\n",
       "  </tbody>\n",
       "</table>\n",
       "<p>811508 rows × 39 columns</p>\n",
       "</div>"
      ],
      "text/plain": [
       "        Country  Admin1 SubDiv  Year  List Cause  Sex  Frmat  IM_Frmat  \\\n",
       "0          4303     NaN    NaN  2017   101  1000    1      1         8   \n",
       "1          4303     NaN    NaN  2017   101  1000    2      1         8   \n",
       "2          4303     NaN    NaN  2017   101  1001    1      1         8   \n",
       "3          4303     NaN    NaN  2017   101  1001    2      1         8   \n",
       "4          4303     NaN    NaN  2017   101  1002    1      1         8   \n",
       "...         ...     ...    ...   ...   ...   ...  ...    ...       ...   \n",
       "811503     5020     NaN    NaN  2021   104  Y871    2      0         1   \n",
       "811504     5020     NaN    NaN  2021   104  Y872    1      0         1   \n",
       "811505     5020     NaN    NaN  2021   104  Y880    1      0         1   \n",
       "811506     5020     NaN    NaN  2021   104  Y883    1      0         1   \n",
       "811507     5020     NaN    NaN  2021   104  Y883    2      0         1   \n",
       "\n",
       "        Deaths1  ...  Deaths21  Deaths22  Deaths23  Deaths24  Deaths25  \\\n",
       "0        281784  ...   43174.0   29856.0   29184.0       NaN       NaN   \n",
       "1        292339  ...   56037.0   52655.0   88271.0       NaN       NaN   \n",
       "2          6198  ...      62.0      36.0      15.0       NaN       NaN   \n",
       "3          2516  ...      86.0      45.0      29.0       NaN       NaN   \n",
       "4             0  ...       0.0       0.0       0.0       NaN       NaN   \n",
       "...         ...  ...       ...       ...       ...       ...       ...   \n",
       "811503        1  ...       0.0       0.0       0.0       0.0       0.0   \n",
       "811504        1  ...       0.0       0.0       0.0       0.0       0.0   \n",
       "811505        1  ...       0.0       0.0       0.0       0.0       0.0   \n",
       "811506        3  ...       1.0       0.0       0.0       1.0       1.0   \n",
       "811507        5  ...       0.0       1.0       1.0       0.0       0.0   \n",
       "\n",
       "        Deaths26  IM_Deaths1  IM_Deaths2  IM_Deaths3  IM_Deaths4  \n",
       "0           68.0      1608.0         NaN         NaN         NaN  \n",
       "1           19.0      1178.0         NaN         NaN         NaN  \n",
       "2            1.0        41.0         NaN         NaN         NaN  \n",
       "3            0.0        29.0         NaN         NaN         NaN  \n",
       "4            0.0         0.0         NaN         NaN         NaN  \n",
       "...          ...         ...         ...         ...         ...  \n",
       "811503       0.0         0.0         0.0         0.0         0.0  \n",
       "811504       0.0         0.0         0.0         0.0         0.0  \n",
       "811505       0.0         0.0         0.0         0.0         0.0  \n",
       "811506       0.0         0.0         0.0         0.0         0.0  \n",
       "811507       0.0         0.0         0.0         0.0         0.0  \n",
       "\n",
       "[811508 rows x 39 columns]"
      ]
     },
     "execution_count": 4,
     "metadata": {},
     "output_type": "execute_result"
    }
   ],
   "source": [
    "pd.read_table(\"C:\\\\Users\\\\uzing\\\\Desktop\\\\dashboard\\\\mortality_data\", sep=\",\")"
   ]
  },
  {
   "cell_type": "code",
   "execution_count": 5,
   "id": "0e5deb25",
   "metadata": {
    "scrolled": true
   },
   "outputs": [
    {
     "name": "stderr",
     "output_type": "stream",
     "text": [
      "C:\\Users\\uzing\\AppData\\Local\\Temp\\ipykernel_13460\\3352607653.py:1: DtypeWarning: Columns (2) have mixed types. Specify dtype option on import or set low_memory=False.\n",
      "  df=pd.read_table(\"C:\\\\Users\\\\uzing\\\\Desktop\\\\dashboard\\\\mortality_data\", sep=\",\")\n"
     ]
    }
   ],
   "source": [
    "df=pd.read_table(\"C:\\\\Users\\\\uzing\\\\Desktop\\\\dashboard\\\\mortality_data\", sep=\",\")"
   ]
  },
  {
   "cell_type": "markdown",
   "id": "d33e1a93",
   "metadata": {},
   "source": [
    "### Data Cleaning"
   ]
  },
  {
   "cell_type": "code",
   "execution_count": 6,
   "id": "56b5dbdf",
   "metadata": {},
   "outputs": [],
   "source": [
    "df.drop(columns=[\"Deaths2\",\"Deaths3\",\"Deaths4\",\"Deaths5\",\"Deaths6\",\"Deaths7\",\"Deaths8\",\"Deaths9\",\"Deaths10\"], inplace=True)"
   ]
  },
  {
   "cell_type": "code",
   "execution_count": 7,
   "id": "6a10360b",
   "metadata": {},
   "outputs": [],
   "source": [
    "df.drop(columns=[\"Deaths11\",\"Deaths12\",\"Deaths13\",\"Deaths14\",\"Deaths15\",\"Deaths16\",\"Deaths17\",\"Deaths18\",\"Deaths19\"], inplace=True)"
   ]
  },
  {
   "cell_type": "code",
   "execution_count": 8,
   "id": "beeeed41",
   "metadata": {},
   "outputs": [],
   "source": [
    "df.drop(columns=[\"Deaths21\",\"Deaths22\",\"Deaths23\",\"Deaths24\",\"Deaths25\",\"Deaths26\",\"Deaths20\"], inplace=True)"
   ]
  },
  {
   "cell_type": "code",
   "execution_count": 9,
   "id": "a96197ca",
   "metadata": {},
   "outputs": [],
   "source": [
    "df.drop(columns=[\"IM_Deaths1\",\"IM_Deaths2\",\"IM_Deaths3\",\"IM_Deaths4\",\"IM_Frmat\",\"Frmat\"], inplace=True)"
   ]
  },
  {
   "cell_type": "code",
   "execution_count": 10,
   "id": "7b26d302",
   "metadata": {},
   "outputs": [],
   "source": [
    "df.drop(columns=[\"Admin1\",\"SubDiv\"], inplace=True)"
   ]
  },
  {
   "cell_type": "code",
   "execution_count": 11,
   "id": "6df3c004",
   "metadata": {},
   "outputs": [],
   "source": [
    "df[\"Cause\"]=df[\"Cause\"].astype(\"string\")"
   ]
  },
  {
   "cell_type": "code",
   "execution_count": 12,
   "id": "b264b345",
   "metadata": {},
   "outputs": [],
   "source": [
    "df[\"List\"]=df[\"List\"].astype(\"string\")"
   ]
  },
  {
   "cell_type": "code",
   "execution_count": 13,
   "id": "3c2704f4",
   "metadata": {},
   "outputs": [],
   "source": [
    "df[\"Sex\"]=df[\"Sex\"].replace({\"male\":1 , \"female\":0})"
   ]
  },
  {
   "cell_type": "code",
   "execution_count": 14,
   "id": "8fc3e867",
   "metadata": {},
   "outputs": [],
   "source": [
    "df[\"Sex\"]=df[\"Sex\"].replace({1:\"male\" , 2:\"female\"})"
   ]
  },
  {
   "cell_type": "code",
   "execution_count": 15,
   "id": "da1012fd",
   "metadata": {},
   "outputs": [],
   "source": [
    "df[\"Sex\"]=df[\"Sex\"].astype(\"string\")"
   ]
  },
  {
   "cell_type": "markdown",
   "id": "203bdb81",
   "metadata": {},
   "source": [
    "### Getting country codes from Country Codes dataset"
   ]
  },
  {
   "cell_type": "code",
   "execution_count": 16,
   "id": "7f7509bd",
   "metadata": {},
   "outputs": [],
   "source": [
    "df2=pd.read_table(\"C:\\\\Users\\\\uzing\\\\Desktop\\\\dashboard\\\\Country_codes\", sep=\",\")"
   ]
  },
  {
   "cell_type": "code",
   "execution_count": 17,
   "id": "2924fb6a",
   "metadata": {},
   "outputs": [],
   "source": [
    "country_codes=((df2[\"name\"]==\"France\")|(df2[\"name\"]==\"United States of America\")|(df2[\"name\"]==\"EU-5\")\\\n",
    "               |(df2[\"name\"]==\"Germany\")|(df2[\"name\"]==\"Italy\")\\\n",
    "               |(df2[\"name\"]==\"Spain\")|(df2[\"name\"]==\"United Kingdom\")|(df2[\"name\"]==\"Other\")\\\n",
    "               |(df2[\"name\"]==\"Argentina\")|(df2[\"name\"]==\"Brazil\")\\\n",
    "               |(df2[\"name\"]==\"Israel\")|(df2[\"name\"]==\"Japan\")\\\n",
    "               |(df2[\"name\"]==\"Taiwan\")|(df2[\"name\"]==\"Turkey\")\n",
    "              )"
   ]
  },
  {
   "cell_type": "code",
   "execution_count": 18,
   "id": "b0807491",
   "metadata": {},
   "outputs": [
    {
     "data": {
      "text/html": [
       "<div>\n",
       "<style scoped>\n",
       "    .dataframe tbody tr th:only-of-type {\n",
       "        vertical-align: middle;\n",
       "    }\n",
       "\n",
       "    .dataframe tbody tr th {\n",
       "        vertical-align: top;\n",
       "    }\n",
       "\n",
       "    .dataframe thead th {\n",
       "        text-align: right;\n",
       "    }\n",
       "</style>\n",
       "<table border=\"1\" class=\"dataframe\">\n",
       "  <thead>\n",
       "    <tr style=\"text-align: right;\">\n",
       "      <th></th>\n",
       "      <th>country</th>\n",
       "      <th>name</th>\n",
       "    </tr>\n",
       "  </thead>\n",
       "  <tbody>\n",
       "    <tr>\n",
       "      <th>60</th>\n",
       "      <td>2020</td>\n",
       "      <td>Argentina</td>\n",
       "    </tr>\n",
       "    <tr>\n",
       "      <th>67</th>\n",
       "      <td>2070</td>\n",
       "      <td>Brazil</td>\n",
       "    </tr>\n",
       "    <tr>\n",
       "      <th>104</th>\n",
       "      <td>2450</td>\n",
       "      <td>United States of America</td>\n",
       "    </tr>\n",
       "    <tr>\n",
       "      <th>123</th>\n",
       "      <td>3150</td>\n",
       "      <td>Israel</td>\n",
       "    </tr>\n",
       "    <tr>\n",
       "      <th>124</th>\n",
       "      <td>3160</td>\n",
       "      <td>Japan</td>\n",
       "    </tr>\n",
       "    <tr>\n",
       "      <th>147</th>\n",
       "      <td>3400</td>\n",
       "      <td>Turkey</td>\n",
       "    </tr>\n",
       "    <tr>\n",
       "      <th>166</th>\n",
       "      <td>4080</td>\n",
       "      <td>France</td>\n",
       "    </tr>\n",
       "    <tr>\n",
       "      <th>168</th>\n",
       "      <td>4085</td>\n",
       "      <td>Germany</td>\n",
       "    </tr>\n",
       "    <tr>\n",
       "      <th>176</th>\n",
       "      <td>4180</td>\n",
       "      <td>Italy</td>\n",
       "    </tr>\n",
       "    <tr>\n",
       "      <th>197</th>\n",
       "      <td>4280</td>\n",
       "      <td>Spain</td>\n",
       "    </tr>\n",
       "    <tr>\n",
       "      <th>204</th>\n",
       "      <td>4308</td>\n",
       "      <td>United Kingdom</td>\n",
       "    </tr>\n",
       "  </tbody>\n",
       "</table>\n",
       "</div>"
      ],
      "text/plain": [
       "     country                      name\n",
       "60      2020                 Argentina\n",
       "67      2070                    Brazil\n",
       "104     2450  United States of America\n",
       "123     3150                    Israel\n",
       "124     3160                     Japan\n",
       "147     3400                    Turkey\n",
       "166     4080                    France\n",
       "168     4085                   Germany\n",
       "176     4180                     Italy\n",
       "197     4280                     Spain\n",
       "204     4308            United Kingdom"
      ]
     },
     "execution_count": 18,
     "metadata": {},
     "output_type": "execute_result"
    }
   ],
   "source": [
    "df2.loc[country_codes]"
   ]
  },
  {
   "cell_type": "markdown",
   "id": "2478a95a",
   "metadata": {},
   "source": [
    "### Getting the total number of deaths for each disease."
   ]
  },
  {
   "cell_type": "code",
   "execution_count": 19,
   "id": "43dc8d26",
   "metadata": {},
   "outputs": [],
   "source": [
    "USA=df[df[\"Country\"]==2450]\n",
    "\n",
    "\n"
   ]
  },
  {
   "cell_type": "code",
   "execution_count": 20,
   "id": "bea817e1",
   "metadata": {},
   "outputs": [],
   "source": [
    "GM2_USA = USA[ (USA[\"Cause\"] == \"E750\") |(USA[\"Cause\"] == \"E7500\")\\\n",
    "                   |(USA[\"Cause\"] == \"E7501\")|(USA[\"Cause\"] == \"E7502\")\\\n",
    "                  |(USA[\"Cause\"] == \"E7509\")]"
   ]
  },
  {
   "cell_type": "code",
   "execution_count": 21,
   "id": "9e283889",
   "metadata": {},
   "outputs": [
    {
     "data": {
      "text/plain": [
       "66"
      ]
     },
     "execution_count": 21,
     "metadata": {},
     "output_type": "execute_result"
    }
   ],
   "source": [
    "GM2_USA.Deaths1.sum()"
   ]
  },
  {
   "cell_type": "code",
   "execution_count": 22,
   "id": "da2b87aa",
   "metadata": {},
   "outputs": [],
   "source": [
    "PN_USA=USA [(USA[\"Cause\"]==\"L281\")]"
   ]
  },
  {
   "cell_type": "code",
   "execution_count": 23,
   "id": "b84d9015",
   "metadata": {},
   "outputs": [
    {
     "data": {
      "text/plain": [
       "0"
      ]
     },
     "execution_count": 23,
     "metadata": {},
     "output_type": "execute_result"
    }
   ],
   "source": [
    "PN_USA.Deaths1.sum()"
   ]
  },
  {
   "cell_type": "code",
   "execution_count": 24,
   "id": "ac133314",
   "metadata": {},
   "outputs": [],
   "source": [
    "CKD_USA=USA[(USA[\"Cause\"]==\"N181\")|(USA[\"Cause\"]==\"N182\")\\\n",
    "           |(USA[\"Cause\"]==\"N183\")|(USA[\"Cause\"]==\"N184\")]"
   ]
  },
  {
   "cell_type": "code",
   "execution_count": 25,
   "id": "f2caba5a",
   "metadata": {},
   "outputs": [
    {
     "data": {
      "text/plain": [
       "6621"
      ]
     },
     "execution_count": 25,
     "metadata": {},
     "output_type": "execute_result"
    }
   ],
   "source": [
    "CKD_USA.Deaths1.sum()"
   ]
  },
  {
   "cell_type": "code",
   "execution_count": 26,
   "id": "def8168a",
   "metadata": {},
   "outputs": [],
   "source": [
    "LiverDisease_USA= USA[(USA[\"Cause\"]==\"I2601\")|(USA[\"Cause\"]==\"I2609\")\\\n",
    "                     |(USA[\"Cause\"]==\"I2693\")|(USA[\"Cause\"]==\"I2694\")\\\n",
    "                     |(USA[\"Cause\"]==\"I260\")|(USA[\"Cause\"]==\"I2602\")\\\n",
    "                     |(USA[\"Cause\"]==\"I269\")|(USA[\"Cause\"]==\"I2690\")\\\n",
    "                     |(USA[\"Cause\"]==\"I2692\")|(USA[\"Cause\"]==\"I2699\")\\\n",
    "                     |(USA[\"Cause\"]==\"I26\")\n",
    "                     ]"
   ]
  },
  {
   "cell_type": "code",
   "execution_count": 27,
   "id": "4d7a04aa",
   "metadata": {},
   "outputs": [
    {
     "data": {
      "text/plain": [
       "35520"
      ]
     },
     "execution_count": 27,
     "metadata": {},
     "output_type": "execute_result"
    }
   ],
   "source": [
    "LiverDisease_USA.Deaths1.sum()"
   ]
  },
  {
   "cell_type": "code",
   "execution_count": 28,
   "id": "44bff727",
   "metadata": {},
   "outputs": [],
   "source": [
    "Asthma_USA=USA[(USA[\"Cause\"]==\"J441\")|(USA[\"Cause\"]==\"J449\")\\\n",
    "              |(USA[\"Cause\"]==\"J4532\")|(USA[\"Cause\"]==\"J4552\")\\\n",
    "              |(USA[\"Cause\"]==\"J4531\")|(USA[\"Cause\"]==\"J4550\")\\\n",
    "              |(USA[\"Cause\"]==\"J45901\")|(USA[\"Cause\"]==\"J45990\")\\\n",
    "              |(USA[\"Cause\"]==\"J440\")|(USA[\"Cause\"]==\"J4542\")\\\n",
    "              |(USA[\"Cause\"]==\"J45902\")|(USA[\"Cause\"]==\"J45991\")\\\n",
    "              |(USA[\"Cause\"]==\"J4520\")|(USA[\"Cause\"]==\"J4521\")\\\n",
    "              |(USA[\"Cause\"]==\"J45998\")|(USA[\"Cause\"]==\"J4530\")\\\n",
    "              |(USA[\"Cause\"]==\"J4540\")|(USA[\"Cause\"]==\"J4541\")\\\n",
    "              |(USA[\"Cause\"]==\"J4551\")|(USA[\"Cause\"]==\"J45909\")\\\n",
    "              |(USA[\"Cause\"]==\"J4522\")]"
   ]
  },
  {
   "cell_type": "code",
   "execution_count": 29,
   "id": "dc82f279",
   "metadata": {},
   "outputs": [
    {
     "data": {
      "text/plain": [
       "574416"
      ]
     },
     "execution_count": 29,
     "metadata": {},
     "output_type": "execute_result"
    }
   ],
   "source": [
    "Asthma_USA.Deaths1.sum()"
   ]
  },
  {
   "cell_type": "code",
   "execution_count": 30,
   "id": "b656ffb8",
   "metadata": {},
   "outputs": [],
   "source": [
    "FRA=df[df[\"Country\"]==4080]"
   ]
  },
  {
   "cell_type": "code",
   "execution_count": 31,
   "id": "9e178ae1",
   "metadata": {},
   "outputs": [],
   "source": [
    "GM2_FRA = FRA[ (FRA[\"Cause\"] == \"E750\") |(FRA[\"Cause\"] == \"E7500\")\\\n",
    "                   |(FRA[\"Cause\"] == \"E7501\")|(FRA[\"Cause\"] == \"E7502\")\\\n",
    "                  |(FRA[\"Cause\"] == \"E7509\")]"
   ]
  },
  {
   "cell_type": "code",
   "execution_count": 32,
   "id": "b596e69f",
   "metadata": {},
   "outputs": [
    {
     "data": {
      "text/plain": [
       "4"
      ]
     },
     "execution_count": 32,
     "metadata": {},
     "output_type": "execute_result"
    }
   ],
   "source": [
    "GM2_FRA.Deaths1.sum()"
   ]
  },
  {
   "cell_type": "code",
   "execution_count": 33,
   "id": "5b8571d4",
   "metadata": {},
   "outputs": [],
   "source": [
    "PN_FRA=FRA [(FRA[\"Cause\"]==\"L281\")]"
   ]
  },
  {
   "cell_type": "code",
   "execution_count": 34,
   "id": "fedbc7a9",
   "metadata": {},
   "outputs": [
    {
     "data": {
      "text/plain": [
       "0"
      ]
     },
     "execution_count": 34,
     "metadata": {},
     "output_type": "execute_result"
    }
   ],
   "source": [
    "PN_FRA.Deaths1.sum()"
   ]
  },
  {
   "cell_type": "code",
   "execution_count": 35,
   "id": "3f7bd61a",
   "metadata": {},
   "outputs": [],
   "source": [
    "CKD_FRA=FRA[(FRA[\"Cause\"]==\"N181\")|(FRA[\"Cause\"]==\"N182\")\\\n",
    "           |(FRA[\"Cause\"]==\"N183\")|(FRA[\"Cause\"]==\"N184\")]"
   ]
  },
  {
   "cell_type": "code",
   "execution_count": 36,
   "id": "06d9d51c",
   "metadata": {},
   "outputs": [
    {
     "data": {
      "text/plain": [
       "93"
      ]
     },
     "execution_count": 36,
     "metadata": {},
     "output_type": "execute_result"
    }
   ],
   "source": [
    "CKD_FRA.Deaths1.sum()"
   ]
  },
  {
   "cell_type": "code",
   "execution_count": 37,
   "id": "82d7a02a",
   "metadata": {},
   "outputs": [],
   "source": [
    "LiverDisease_FRA= FRA[(FRA[\"Cause\"]==\"I2601\")|(FRA[\"Cause\"]==\"I2609\")\\\n",
    "                     |(FRA[\"Cause\"]==\"I2693\")|(FRA[\"Cause\"]==\"I2694\")\\\n",
    "                     |(FRA[\"Cause\"]==\"I260\")|(FRA[\"Cause\"]==\"I2602\")\\\n",
    "                     |(FRA[\"Cause\"]==\"I269\")|(FRA[\"Cause\"]==\"I2690\")\\\n",
    "                     |(FRA[\"Cause\"]==\"I2692\")|(FRA[\"Cause\"]==\"I2699\")\\\n",
    "                     |(FRA[\"Cause\"]==\"I26\")\n",
    "                     ]"
   ]
  },
  {
   "cell_type": "code",
   "execution_count": 38,
   "id": "1143699f",
   "metadata": {},
   "outputs": [
    {
     "data": {
      "text/plain": [
       "3203"
      ]
     },
     "execution_count": 38,
     "metadata": {},
     "output_type": "execute_result"
    }
   ],
   "source": [
    "LiverDisease_FRA.Deaths1.sum()"
   ]
  },
  {
   "cell_type": "code",
   "execution_count": 39,
   "id": "8d89a2d3",
   "metadata": {},
   "outputs": [],
   "source": [
    "Asthma_FRA=FRA[(FRA[\"Cause\"]==\"J441\")|(FRA[\"Cause\"]==\"J449\")\\\n",
    "              |(FRA[\"Cause\"]==\"J4532\")|(FRA[\"Cause\"]==\"J4552\")\\\n",
    "              |(FRA[\"Cause\"]==\"J4531\")|(FRA[\"Cause\"]==\"J4550\")\\\n",
    "              |(FRA[\"Cause\"]==\"J45901\")|(FRA[\"Cause\"]==\"J45990\")\\\n",
    "              |(FRA[\"Cause\"]==\"J440\")|(FRA[\"Cause\"]==\"J4542\")\\\n",
    "              |(FRA[\"Cause\"]==\"J45902\")|(FRA[\"Cause\"]==\"J45991\")\\\n",
    "              |(FRA[\"Cause\"]==\"J4520\")|(FRA[\"Cause\"]==\"J4521\")\\\n",
    "              |(FRA[\"Cause\"]==\"J45998\")|(FRA[\"Cause\"]==\"J4530\")\\\n",
    "              |(FRA[\"Cause\"]==\"J4540\")|(FRA[\"Cause\"]==\"J4541\")\\\n",
    "              |(FRA[\"Cause\"]==\"J4551\")|(FRA[\"Cause\"]==\"J45909\")\\\n",
    "              |(FRA[\"Cause\"]==\"J4522\")]"
   ]
  },
  {
   "cell_type": "code",
   "execution_count": 40,
   "id": "c1eacd76",
   "metadata": {},
   "outputs": [
    {
     "data": {
      "text/plain": [
       "8497"
      ]
     },
     "execution_count": 40,
     "metadata": {},
     "output_type": "execute_result"
    }
   ],
   "source": [
    "Asthma_FRA.Deaths1.sum()"
   ]
  },
  {
   "cell_type": "code",
   "execution_count": 41,
   "id": "6d330021",
   "metadata": {},
   "outputs": [],
   "source": [
    "GMR=df[df[\"Country\"]==4085]"
   ]
  },
  {
   "cell_type": "code",
   "execution_count": 42,
   "id": "1f85abd3",
   "metadata": {},
   "outputs": [],
   "source": [
    "GM2_GMR = GMR[ (GMR[\"Cause\"] == \"E750\") |(GMR[\"Cause\"] == \"E7500\")\\\n",
    "                   |(GMR[\"Cause\"] == \"E7501\")|(GMR[\"Cause\"] == \"E7502\")\\\n",
    "                  |(GMR[\"Cause\"] == \"E7509\")]"
   ]
  },
  {
   "cell_type": "code",
   "execution_count": 43,
   "id": "b3b5d5fd",
   "metadata": {},
   "outputs": [
    {
     "data": {
      "text/plain": [
       "14"
      ]
     },
     "execution_count": 43,
     "metadata": {},
     "output_type": "execute_result"
    }
   ],
   "source": [
    "GM2_GMR.Deaths1.sum()"
   ]
  },
  {
   "cell_type": "code",
   "execution_count": 44,
   "id": "78a1f109",
   "metadata": {},
   "outputs": [],
   "source": [
    "PN_GMR=GMR [(GMR[\"Cause\"]==\"L281\")]"
   ]
  },
  {
   "cell_type": "code",
   "execution_count": 45,
   "id": "7641cf6e",
   "metadata": {},
   "outputs": [
    {
     "data": {
      "text/plain": [
       "2"
      ]
     },
     "execution_count": 45,
     "metadata": {},
     "output_type": "execute_result"
    }
   ],
   "source": [
    "PN_GMR.Deaths1.sum()"
   ]
  },
  {
   "cell_type": "code",
   "execution_count": 46,
   "id": "d81f41d9",
   "metadata": {},
   "outputs": [],
   "source": [
    "CKD_GMR=GMR[(GMR[\"Cause\"]==\"N181\")|(GMR[\"Cause\"]==\"N182\")\\\n",
    "           |(GMR[\"Cause\"]==\"N183\")|(GMR[\"Cause\"]==\"N184\")]"
   ]
  },
  {
   "cell_type": "code",
   "execution_count": 47,
   "id": "8c4f4e97",
   "metadata": {},
   "outputs": [
    {
     "data": {
      "text/plain": [
       "3894"
      ]
     },
     "execution_count": 47,
     "metadata": {},
     "output_type": "execute_result"
    }
   ],
   "source": [
    "CKD_GMR.Deaths1.sum()"
   ]
  },
  {
   "cell_type": "code",
   "execution_count": 48,
   "id": "8fc0fbab",
   "metadata": {},
   "outputs": [],
   "source": [
    "LiverDisease_GMR= GMR[(GMR[\"Cause\"]==\"I2601\")|(GMR[\"Cause\"]==\"I2609\")\\\n",
    "                     |(GMR[\"Cause\"]==\"I2693\")|(GMR[\"Cause\"]==\"I2694\")\\\n",
    "                     |(GMR[\"Cause\"]==\"I260\")|(GMR[\"Cause\"]==\"I2602\")\\\n",
    "                     |(GMR[\"Cause\"]==\"I269\")|(GMR[\"Cause\"]==\"I2690\")\\\n",
    "                     |(GMR[\"Cause\"]==\"I2692\")|(GMR[\"Cause\"]==\"I2699\")\\\n",
    "                     |(GMR[\"Cause\"]==\"I26\")\n",
    "                     ]"
   ]
  },
  {
   "cell_type": "code",
   "execution_count": 49,
   "id": "9aaf9c98",
   "metadata": {},
   "outputs": [
    {
     "data": {
      "text/plain": [
       "20191"
      ]
     },
     "execution_count": 49,
     "metadata": {},
     "output_type": "execute_result"
    }
   ],
   "source": [
    "LiverDisease_GMR.Deaths1.sum()"
   ]
  },
  {
   "cell_type": "code",
   "execution_count": 50,
   "id": "a78cccef",
   "metadata": {},
   "outputs": [],
   "source": [
    "Asthma_GMR=GMR[(GMR[\"Cause\"]==\"J441\")|(GMR[\"Cause\"]==\"J449\")\\\n",
    "              |(GMR[\"Cause\"]==\"J4532\")|(GMR[\"Cause\"]==\"J4552\")\\\n",
    "              |(GMR[\"Cause\"]==\"J4531\")|(GMR[\"Cause\"]==\"J4550\")\\\n",
    "              |(GMR[\"Cause\"]==\"J45901\")|(GMR[\"Cause\"]==\"J45990\")\\\n",
    "              |(GMR[\"Cause\"]==\"J440\")|(GMR[\"Cause\"]==\"J4542\")\\\n",
    "              |(GMR[\"Cause\"]==\"J45902\")|(GMR[\"Cause\"]==\"J45991\")\\\n",
    "              |(GMR[\"Cause\"]==\"J4520\")|(GMR[\"Cause\"]==\"J4521\")\\\n",
    "              |(GMR[\"Cause\"]==\"J45998\")|(GMR[\"Cause\"]==\"J4530\")\\\n",
    "              |(GMR[\"Cause\"]==\"J4540\")|(GMR[\"Cause\"]==\"J4541\")\\\n",
    "              |(GMR[\"Cause\"]==\"J4551\")|(GMR[\"Cause\"]==\"J45909\")\\\n",
    "              |(GMR[\"Cause\"]==\"J4522\")]"
   ]
  },
  {
   "cell_type": "code",
   "execution_count": 51,
   "id": "8e825081",
   "metadata": {},
   "outputs": [
    {
     "data": {
      "text/plain": [
       "122387"
      ]
     },
     "execution_count": 51,
     "metadata": {},
     "output_type": "execute_result"
    }
   ],
   "source": [
    "Asthma_GMR.Deaths1.sum()"
   ]
  },
  {
   "cell_type": "code",
   "execution_count": 52,
   "id": "8dd918c2",
   "metadata": {},
   "outputs": [],
   "source": [
    "ITA=df[df[\"Country\"]==4180]"
   ]
  },
  {
   "cell_type": "code",
   "execution_count": 53,
   "id": "536b4bfd",
   "metadata": {},
   "outputs": [],
   "source": [
    "Asthma_ITA=ITA[(ITA[\"Cause\"]==\"J441\")|(ITA[\"Cause\"]==\"J449\")\\\n",
    "              |(ITA[\"Cause\"]==\"J4532\")|(ITA[\"Cause\"]==\"J4552\")\\\n",
    "              |(ITA[\"Cause\"]==\"J4531\")|(ITA[\"Cause\"]==\"J4550\")\\\n",
    "              |(ITA[\"Cause\"]==\"J45901\")|(ITA[\"Cause\"]==\"J45990\")\\\n",
    "              |(ITA[\"Cause\"]==\"J440\")|(ITA[\"Cause\"]==\"J4542\")\\\n",
    "              |(ITA[\"Cause\"]==\"J45902\")|(ITA[\"Cause\"]==\"J45991\")\\\n",
    "              |(ITA[\"Cause\"]==\"J4520\")|(ITA[\"Cause\"]==\"J4521\")\\\n",
    "              |(ITA[\"Cause\"]==\"J45998\")|(ITA[\"Cause\"]==\"J4530\")\\\n",
    "              |(ITA[\"Cause\"]==\"J4540\")|(ITA[\"Cause\"]==\"J4541\")\\\n",
    "              |(ITA[\"Cause\"]==\"J4551\")|(ITA[\"Cause\"]==\"J45909\")\\\n",
    "              |(ITA[\"Cause\"]==\"J4522\")]"
   ]
  },
  {
   "cell_type": "code",
   "execution_count": 54,
   "id": "bbabfeef",
   "metadata": {},
   "outputs": [
    {
     "data": {
      "text/plain": [
       "21477"
      ]
     },
     "execution_count": 54,
     "metadata": {},
     "output_type": "execute_result"
    }
   ],
   "source": [
    "Asthma_ITA.Deaths1.sum()"
   ]
  },
  {
   "cell_type": "code",
   "execution_count": 55,
   "id": "ac1109de",
   "metadata": {},
   "outputs": [],
   "source": [
    "LiverDisease_ITA= ITA[(ITA[\"Cause\"]==\"I2601\")|(ITA[\"Cause\"]==\"I2609\")\\\n",
    "                     |(ITA[\"Cause\"]==\"I2693\")|(ITA[\"Cause\"]==\"I2694\")\\\n",
    "                     |(ITA[\"Cause\"]==\"I260\")|(ITA[\"Cause\"]==\"I2602\")\\\n",
    "                     |(ITA[\"Cause\"]==\"I269\")|(ITA[\"Cause\"]==\"I2690\")\\\n",
    "                     |(ITA[\"Cause\"]==\"I2692\")|(ITA[\"Cause\"]==\"I2699\")\\\n",
    "                     |(ITA[\"Cause\"]==\"I26\")\n",
    "                     ]"
   ]
  },
  {
   "cell_type": "code",
   "execution_count": 56,
   "id": "39e084a5",
   "metadata": {},
   "outputs": [
    {
     "data": {
      "text/plain": [
       "4443"
      ]
     },
     "execution_count": 56,
     "metadata": {},
     "output_type": "execute_result"
    }
   ],
   "source": [
    "LiverDisease_ITA.Deaths1.sum()"
   ]
  },
  {
   "cell_type": "code",
   "execution_count": 57,
   "id": "5dad13a3",
   "metadata": {},
   "outputs": [],
   "source": [
    "CKD_ITA=ITA[(ITA[\"Cause\"]==\"N181\")|(ITA[\"Cause\"]==\"N182\")\\\n",
    "           |(ITA[\"Cause\"]==\"N183\")|(ITA[\"Cause\"]==\"N184\")]"
   ]
  },
  {
   "cell_type": "code",
   "execution_count": 58,
   "id": "97cb90cc",
   "metadata": {},
   "outputs": [
    {
     "data": {
      "text/plain": [
       "416"
      ]
     },
     "execution_count": 58,
     "metadata": {},
     "output_type": "execute_result"
    }
   ],
   "source": [
    "CKD_ITA.Deaths1.sum()"
   ]
  },
  {
   "cell_type": "code",
   "execution_count": 59,
   "id": "eb96d444",
   "metadata": {},
   "outputs": [],
   "source": [
    "GM2_ITA =ITA[(ITA[\"Cause\"] == \"E750\") |(ITA[\"Cause\"] == \"E7500\")\\\n",
    "                |(ITA[\"Cause\"] == \"E7501\")|(ITA[\"Cause\"] == \"E7502\")\\\n",
    "                |(ITA[\"Cause\"] == \"E7509\")]"
   ]
  },
  {
   "cell_type": "code",
   "execution_count": 60,
   "id": "d8702009",
   "metadata": {},
   "outputs": [
    {
     "data": {
      "text/plain": [
       "5"
      ]
     },
     "execution_count": 60,
     "metadata": {},
     "output_type": "execute_result"
    }
   ],
   "source": [
    "GM2_ITA.Deaths1.sum()"
   ]
  },
  {
   "cell_type": "code",
   "execution_count": 61,
   "id": "5febda37",
   "metadata": {},
   "outputs": [],
   "source": [
    "PN_ITA=ITA [(ITA[\"Cause\"]==\"L281\")]"
   ]
  },
  {
   "cell_type": "code",
   "execution_count": 62,
   "id": "6dbd1209",
   "metadata": {},
   "outputs": [
    {
     "data": {
      "text/plain": [
       "0"
      ]
     },
     "execution_count": 62,
     "metadata": {},
     "output_type": "execute_result"
    }
   ],
   "source": [
    "PN_ITA.Deaths1.sum()"
   ]
  },
  {
   "cell_type": "code",
   "execution_count": 63,
   "id": "ab1d1ef8",
   "metadata": {},
   "outputs": [],
   "source": [
    "ESP=df[df[\"Country\"]== 4280]"
   ]
  },
  {
   "cell_type": "code",
   "execution_count": 64,
   "id": "d5400075",
   "metadata": {},
   "outputs": [],
   "source": [
    "PN_ESP=ESP [(ESP[\"Cause\"]==\"L281\")]"
   ]
  },
  {
   "cell_type": "code",
   "execution_count": 65,
   "id": "eab4497a",
   "metadata": {},
   "outputs": [
    {
     "data": {
      "text/plain": [
       "0"
      ]
     },
     "execution_count": 65,
     "metadata": {},
     "output_type": "execute_result"
    }
   ],
   "source": [
    "PN_ESP.Deaths1.sum()"
   ]
  },
  {
   "cell_type": "code",
   "execution_count": 66,
   "id": "491513e5",
   "metadata": {},
   "outputs": [],
   "source": [
    "GM2_ESP =ESP[(ESP[\"Cause\"] == \"E750\") |(ESP[\"Cause\"] == \"E7500\")\\\n",
    "                |(ESP[\"Cause\"] == \"E7501\")|(ESP[\"Cause\"] == \"E7502\")\\\n",
    "                |(ESP[\"Cause\"] == \"E7509\")]"
   ]
  },
  {
   "cell_type": "code",
   "execution_count": 67,
   "id": "a8dd742f",
   "metadata": {},
   "outputs": [
    {
     "data": {
      "text/plain": [
       "13"
      ]
     },
     "execution_count": 67,
     "metadata": {},
     "output_type": "execute_result"
    }
   ],
   "source": [
    "GM2_ESP.Deaths1.sum()"
   ]
  },
  {
   "cell_type": "code",
   "execution_count": 68,
   "id": "48581343",
   "metadata": {},
   "outputs": [],
   "source": [
    "CKD_ESP=ESP[(ESP[\"Cause\"]==\"N181\")|(ESP[\"Cause\"]==\"N182\")\\\n",
    "           |(ESP[\"Cause\"]==\"N183\")|(ESP[\"Cause\"]==\"N184\")]"
   ]
  },
  {
   "cell_type": "code",
   "execution_count": 69,
   "id": "a129a298",
   "metadata": {},
   "outputs": [
    {
     "data": {
      "text/plain": [
       "1024"
      ]
     },
     "execution_count": 69,
     "metadata": {},
     "output_type": "execute_result"
    }
   ],
   "source": [
    "CKD_ESP.Deaths1.sum()"
   ]
  },
  {
   "cell_type": "code",
   "execution_count": 70,
   "id": "20c03887",
   "metadata": {},
   "outputs": [],
   "source": [
    "LiverDisease_ESP= ESP[(ESP[\"Cause\"]==\"I2601\")|(ESP[\"Cause\"]==\"I2609\")\\\n",
    "                     |(ESP[\"Cause\"]==\"I2693\")|(ESP[\"Cause\"]==\"I2694\")\\\n",
    "                     |(ESP[\"Cause\"]==\"I260\")|(ESP[\"Cause\"]==\"I2602\")\\\n",
    "                     |(ESP[\"Cause\"]==\"I269\")|(ESP[\"Cause\"]==\"I2690\")\\\n",
    "                     |(ESP[\"Cause\"]==\"I2692\")|(ESP[\"Cause\"]==\"I2699\")\\\n",
    "                     |(ESP[\"Cause\"]==\"I26\")\n",
    "                     ]"
   ]
  },
  {
   "cell_type": "code",
   "execution_count": 71,
   "id": "166c2226",
   "metadata": {},
   "outputs": [
    {
     "data": {
      "text/plain": [
       "10319"
      ]
     },
     "execution_count": 71,
     "metadata": {},
     "output_type": "execute_result"
    }
   ],
   "source": [
    "LiverDisease_ESP.Deaths1.sum()"
   ]
  },
  {
   "cell_type": "code",
   "execution_count": 72,
   "id": "eb7eb02f",
   "metadata": {},
   "outputs": [],
   "source": [
    "Asthma_ESP=ESP[(ESP[\"Cause\"]==\"J441\")|(ESP[\"Cause\"]==\"J449\")\\\n",
    "              |(ESP[\"Cause\"]==\"J4532\")|(ESP[\"Cause\"]==\"J4552\")\\\n",
    "              |(ESP[\"Cause\"]==\"J4531\")|(ESP[\"Cause\"]==\"J4550\")\\\n",
    "              |(ESP[\"Cause\"]==\"J45901\")|(ESP[\"Cause\"]==\"J45990\")\\\n",
    "              |(ESP[\"Cause\"]==\"J440\")|(ESP[\"Cause\"]==\"J4542\")\\\n",
    "              |(ESP[\"Cause\"]==\"J45902\")|(ESP[\"Cause\"]==\"J45991\")\\\n",
    "              |(ESP[\"Cause\"]==\"J4520\")|(ESP[\"Cause\"]==\"J4521\")\\\n",
    "              |(ESP[\"Cause\"]==\"J45998\")|(ESP[\"Cause\"]==\"J4530\")\\\n",
    "              |(ESP[\"Cause\"]==\"J4540\")|(ESP[\"Cause\"]==\"J4541\")\\\n",
    "              |(ESP[\"Cause\"]==\"J4551\")|(ESP[\"Cause\"]==\"J45909\")\\\n",
    "              |(ESP[\"Cause\"]==\"J4522\")]"
   ]
  },
  {
   "cell_type": "code",
   "execution_count": 73,
   "id": "10f90677",
   "metadata": {},
   "outputs": [
    {
     "data": {
      "text/plain": [
       "50681"
      ]
     },
     "execution_count": 73,
     "metadata": {},
     "output_type": "execute_result"
    }
   ],
   "source": [
    "Asthma_ESP.Deaths1.sum()"
   ]
  },
  {
   "cell_type": "code",
   "execution_count": 74,
   "id": "43104f8b",
   "metadata": {},
   "outputs": [],
   "source": [
    "UK=df[df[\"Country\"]==4308]"
   ]
  },
  {
   "cell_type": "code",
   "execution_count": 75,
   "id": "f78ab4a1",
   "metadata": {},
   "outputs": [],
   "source": [
    "Asthma_UK=UK[(UK[\"Cause\"]==\"J441\")|(UK[\"Cause\"]==\"J449\")\\\n",
    "              |(UK[\"Cause\"]==\"J4532\")|(UK[\"Cause\"]==\"J4552\")\\\n",
    "              |(UK[\"Cause\"]==\"J4531\")|(UK[\"Cause\"]==\"J4550\")\\\n",
    "              |(UK[\"Cause\"]==\"J45901\")|(UK[\"Cause\"]==\"J45990\")\\\n",
    "              |(UK[\"Cause\"]==\"J440\")|(UK[\"Cause\"]==\"J4542\")\\\n",
    "              |(UK[\"Cause\"]==\"J45902\")|(UK[\"Cause\"]==\"J45991\")\\\n",
    "              |(UK[\"Cause\"]==\"J4520\")|(UK[\"Cause\"]==\"J4521\")\\\n",
    "              |(UK[\"Cause\"]==\"J45998\")|(UK[\"Cause\"]==\"J4530\")\\\n",
    "              |(UK[\"Cause\"]==\"J4540\")|(UK[\"Cause\"]==\"J4541\")\\\n",
    "              |(UK[\"Cause\"]==\"J4551\")|(UK[\"Cause\"]==\"J45909\")\\\n",
    "              |(UK[\"Cause\"]==\"J4522\")]"
   ]
  },
  {
   "cell_type": "code",
   "execution_count": 76,
   "id": "8bce21ac",
   "metadata": {},
   "outputs": [
    {
     "data": {
      "text/plain": [
       "119777"
      ]
     },
     "execution_count": 76,
     "metadata": {},
     "output_type": "execute_result"
    }
   ],
   "source": [
    "Asthma_UK.Deaths1.sum()"
   ]
  },
  {
   "cell_type": "code",
   "execution_count": 77,
   "id": "e8109d1d",
   "metadata": {},
   "outputs": [],
   "source": [
    "LiverDisease_UK= UK[(UK[\"Cause\"]==\"I2601\")|(UK[\"Cause\"]==\"I2609\")\\\n",
    "                     |(UK[\"Cause\"]==\"I2693\")|(UK[\"Cause\"]==\"I2694\")\\\n",
    "                     |(UK[\"Cause\"]==\"I260\")|(UK[\"Cause\"]==\"I2602\")\\\n",
    "                     |(UK[\"Cause\"]==\"I269\")|(UK[\"Cause\"]==\"I2690\")\\\n",
    "                     |(UK[\"Cause\"]==\"I2692\")|(UK[\"Cause\"]==\"I2699\")\\\n",
    "                     |(UK[\"Cause\"]==\"I26\")\n",
    "                     ]"
   ]
  },
  {
   "cell_type": "code",
   "execution_count": 78,
   "id": "7f3b9c80",
   "metadata": {},
   "outputs": [
    {
     "data": {
      "text/plain": [
       "10196"
      ]
     },
     "execution_count": 78,
     "metadata": {},
     "output_type": "execute_result"
    }
   ],
   "source": [
    "LiverDisease_UK.Deaths1.sum()"
   ]
  },
  {
   "cell_type": "code",
   "execution_count": 79,
   "id": "e2453509",
   "metadata": {},
   "outputs": [],
   "source": [
    "CKD_UK=UK[(UK[\"Cause\"]==\"N181\")|(UK[\"Cause\"]==\"N182\")\\\n",
    "           |(UK[\"Cause\"]==\"N183\")|(UK[\"Cause\"]==\"N184\")]"
   ]
  },
  {
   "cell_type": "code",
   "execution_count": 80,
   "id": "ca9bfb74",
   "metadata": {},
   "outputs": [
    {
     "data": {
      "text/plain": [
       "850"
      ]
     },
     "execution_count": 80,
     "metadata": {},
     "output_type": "execute_result"
    }
   ],
   "source": [
    "CKD_UK.Deaths1.sum()"
   ]
  },
  {
   "cell_type": "code",
   "execution_count": 81,
   "id": "6cc4ad54",
   "metadata": {},
   "outputs": [],
   "source": [
    "GM2_UK =UK[(UK[\"Cause\"] == \"E750\") |(UK[\"Cause\"] == \"E7500\")\\\n",
    "                |(UK[\"Cause\"] == \"E7501\")|(UK[\"Cause\"] == \"E7502\")\\\n",
    "                |(UK[\"Cause\"] == \"E7509\")]"
   ]
  },
  {
   "cell_type": "code",
   "execution_count": 82,
   "id": "69744d26",
   "metadata": {},
   "outputs": [
    {
     "data": {
      "text/plain": [
       "16"
      ]
     },
     "execution_count": 82,
     "metadata": {},
     "output_type": "execute_result"
    }
   ],
   "source": [
    "GM2_UK.Deaths1.sum()"
   ]
  },
  {
   "cell_type": "code",
   "execution_count": 83,
   "id": "2b84969b",
   "metadata": {},
   "outputs": [],
   "source": [
    "PN_UK=UK [(UK[\"Cause\"]==\"L281\")]"
   ]
  },
  {
   "cell_type": "code",
   "execution_count": 84,
   "id": "894ad54f",
   "metadata": {},
   "outputs": [
    {
     "data": {
      "text/plain": [
       "4"
      ]
     },
     "execution_count": 84,
     "metadata": {},
     "output_type": "execute_result"
    }
   ],
   "source": [
    "PN_UK.Deaths1.sum()"
   ]
  },
  {
   "cell_type": "code",
   "execution_count": 85,
   "id": "ec30ab02",
   "metadata": {},
   "outputs": [],
   "source": [
    "ARG=df[df[\"Country\"]==2020]"
   ]
  },
  {
   "cell_type": "code",
   "execution_count": 86,
   "id": "6b8fdf15",
   "metadata": {},
   "outputs": [],
   "source": [
    "PN_ARG=ARG [(ARG[\"Cause\"]==\"L281\")]"
   ]
  },
  {
   "cell_type": "code",
   "execution_count": 87,
   "id": "6d1a6081",
   "metadata": {},
   "outputs": [
    {
     "data": {
      "text/plain": [
       "1"
      ]
     },
     "execution_count": 87,
     "metadata": {},
     "output_type": "execute_result"
    }
   ],
   "source": [
    "PN_ARG.Deaths1.sum()"
   ]
  },
  {
   "cell_type": "code",
   "execution_count": 88,
   "id": "81e3af51",
   "metadata": {},
   "outputs": [],
   "source": [
    "GM2_ARG =ARG[(ARG[\"Cause\"] == \"E750\") |(ARG[\"Cause\"] == \"E7500\")\\\n",
    "                |(ARG[\"Cause\"] == \"E7501\")|(ARG[\"Cause\"] == \"E7502\")\\\n",
    "                |(ARG[\"Cause\"] == \"E7509\")]"
   ]
  },
  {
   "cell_type": "code",
   "execution_count": 89,
   "id": "146001ba",
   "metadata": {},
   "outputs": [
    {
     "data": {
      "text/plain": [
       "21"
      ]
     },
     "execution_count": 89,
     "metadata": {},
     "output_type": "execute_result"
    }
   ],
   "source": [
    "GM2_ARG.Deaths1.sum()"
   ]
  },
  {
   "cell_type": "code",
   "execution_count": 90,
   "id": "a33f4f41",
   "metadata": {},
   "outputs": [],
   "source": [
    "CKD_ARG=ARG[(ARG[\"Cause\"]==\"N181\")|(ARG[\"Cause\"]==\"N182\")\\\n",
    "           |(ARG[\"Cause\"]==\"N183\")|(ARG[\"Cause\"]==\"N184\")]"
   ]
  },
  {
   "cell_type": "code",
   "execution_count": 91,
   "id": "99ddc366",
   "metadata": {},
   "outputs": [
    {
     "data": {
      "text/plain": [
       "31"
      ]
     },
     "execution_count": 91,
     "metadata": {},
     "output_type": "execute_result"
    }
   ],
   "source": [
    "CKD_ARG.Deaths1.sum()"
   ]
  },
  {
   "cell_type": "code",
   "execution_count": 92,
   "id": "23f14abc",
   "metadata": {},
   "outputs": [],
   "source": [
    "LiverDisease_ARG= ARG[(ARG[\"Cause\"]==\"I2601\")|(ARG[\"Cause\"]==\"I2609\")\\\n",
    "                     |(ARG[\"Cause\"]==\"I2693\")|(ARG[\"Cause\"]==\"I2694\")\\\n",
    "                     |(ARG[\"Cause\"]==\"I260\")|(ARG[\"Cause\"]==\"I2602\")\\\n",
    "                     |(ARG[\"Cause\"]==\"I269\")|(ARG[\"Cause\"]==\"I2690\")\\\n",
    "                     |(ARG[\"Cause\"]==\"I2692\")|(ARG[\"Cause\"]==\"I2699\")\\\n",
    "                     |(ARG[\"Cause\"]==\"I26\")\n",
    "                     ]"
   ]
  },
  {
   "cell_type": "code",
   "execution_count": 93,
   "id": "4f33c467",
   "metadata": {},
   "outputs": [
    {
     "data": {
      "text/plain": [
       "5773"
      ]
     },
     "execution_count": 93,
     "metadata": {},
     "output_type": "execute_result"
    }
   ],
   "source": [
    "LiverDisease_ARG.Deaths1.sum()"
   ]
  },
  {
   "cell_type": "code",
   "execution_count": 94,
   "id": "0f8f406d",
   "metadata": {},
   "outputs": [],
   "source": [
    "Asthma_ARG=ARG[(ARG[\"Cause\"]==\"J441\")|(ARG[\"Cause\"]==\"J449\")\\\n",
    "              |(ARG[\"Cause\"]==\"J4532\")|(ARG[\"Cause\"]==\"J4552\")\\\n",
    "              |(ARG[\"Cause\"]==\"J4531\")|(ARG[\"Cause\"]==\"J4550\")\\\n",
    "              |(ARG[\"Cause\"]==\"J45901\")|(ARG[\"Cause\"]==\"J45990\")\\\n",
    "              |(ARG[\"Cause\"]==\"J440\")|(ARG[\"Cause\"]==\"J4542\")\\\n",
    "              |(ARG[\"Cause\"]==\"J45902\")|(ARG[\"Cause\"]==\"J45991\")\\\n",
    "              |(ARG[\"Cause\"]==\"J4520\")|(ARG[\"Cause\"]==\"J4521\")\\\n",
    "              |(ARG[\"Cause\"]==\"J45998\")|(ARG[\"Cause\"]==\"J4530\")\\\n",
    "              |(ARG[\"Cause\"]==\"J4540\")|(ARG[\"Cause\"]==\"J4541\")\\\n",
    "              |(ARG[\"Cause\"]==\"J4551\")|(ARG[\"Cause\"]==\"J45909\")\\\n",
    "              |(ARG[\"Cause\"]==\"J4522\")]"
   ]
  },
  {
   "cell_type": "code",
   "execution_count": 95,
   "id": "b9c793a6",
   "metadata": {},
   "outputs": [
    {
     "data": {
      "text/plain": [
       "22728"
      ]
     },
     "execution_count": 95,
     "metadata": {},
     "output_type": "execute_result"
    }
   ],
   "source": [
    "Asthma_ARG.Deaths1.sum()"
   ]
  },
  {
   "cell_type": "code",
   "execution_count": 96,
   "id": "377bcf5d",
   "metadata": {},
   "outputs": [],
   "source": [
    "BR=df[df[\"Country\"]==2070]"
   ]
  },
  {
   "cell_type": "code",
   "execution_count": 97,
   "id": "f0c8c75b",
   "metadata": {},
   "outputs": [],
   "source": [
    "Asthma_BR=BR[(BR[\"Cause\"]==\"J441\")|(BR[\"Cause\"]==\"J449\")\\\n",
    "              |(BR[\"Cause\"]==\"J4532\")|(BR[\"Cause\"]==\"J4552\")\\\n",
    "              |(BR[\"Cause\"]==\"J4531\")|(BR[\"Cause\"]==\"J4550\")\\\n",
    "              |(BR[\"Cause\"]==\"J45901\")|(BR[\"Cause\"]==\"J45990\")\\\n",
    "              |(BR[\"Cause\"]==\"J440\")|(BR[\"Cause\"]==\"J4542\")\\\n",
    "              |(BR[\"Cause\"]==\"J45902\")|(BR[\"Cause\"]==\"J45991\")\\\n",
    "              |(BR[\"Cause\"]==\"J4520\")|(BR[\"Cause\"]==\"J4521\")\\\n",
    "              |(BR[\"Cause\"]==\"J45998\")|(BR[\"Cause\"]==\"J4530\")\\\n",
    "              |(BR[\"Cause\"]==\"J4540\")|(BR[\"Cause\"]==\"J4541\")\\\n",
    "              |(BR[\"Cause\"]==\"J4551\")|(BR[\"Cause\"]==\"J45909\")\\\n",
    "              |(BR[\"Cause\"]==\"J4522\")]"
   ]
  },
  {
   "cell_type": "code",
   "execution_count": 98,
   "id": "933ebde2",
   "metadata": {},
   "outputs": [
    {
     "data": {
      "text/plain": [
       "150582"
      ]
     },
     "execution_count": 98,
     "metadata": {},
     "output_type": "execute_result"
    }
   ],
   "source": [
    "Asthma_BR.Deaths1.sum()"
   ]
  },
  {
   "cell_type": "code",
   "execution_count": 99,
   "id": "982674e9",
   "metadata": {},
   "outputs": [],
   "source": [
    "LiverDisease_BR= BR[(BR[\"Cause\"]==\"I2601\")|(BR[\"Cause\"]==\"I2609\")\\\n",
    "                     |(BR[\"Cause\"]==\"I2693\")|(BR[\"Cause\"]==\"I2694\")\\\n",
    "                     |(BR[\"Cause\"]==\"I260\")|(BR[\"Cause\"]==\"I2602\")\\\n",
    "                     |(BR[\"Cause\"]==\"I269\")|(BR[\"Cause\"]==\"I2690\")\\\n",
    "                     |(BR[\"Cause\"]==\"I2692\")|(BR[\"Cause\"]==\"I2699\")\\\n",
    "                     |(BR[\"Cause\"]==\"I26\")\n",
    "                     ]"
   ]
  },
  {
   "cell_type": "code",
   "execution_count": 100,
   "id": "330b5dbd",
   "metadata": {},
   "outputs": [
    {
     "data": {
      "text/plain": [
       "26765"
      ]
     },
     "execution_count": 100,
     "metadata": {},
     "output_type": "execute_result"
    }
   ],
   "source": [
    "LiverDisease_BR.Deaths1.sum()"
   ]
  },
  {
   "cell_type": "code",
   "execution_count": 101,
   "id": "4817d510",
   "metadata": {},
   "outputs": [],
   "source": [
    "CKD_BR=BR[(BR[\"Cause\"]==\"N181\")|(BR[\"Cause\"]==\"N182\")\\\n",
    "           |(BR[\"Cause\"]==\"N183\")|(BR[\"Cause\"]==\"N184\")]"
   ]
  },
  {
   "cell_type": "code",
   "execution_count": 102,
   "id": "0e3a3e0e",
   "metadata": {},
   "outputs": [
    {
     "data": {
      "text/plain": [
       "0"
      ]
     },
     "execution_count": 102,
     "metadata": {},
     "output_type": "execute_result"
    }
   ],
   "source": [
    "CKD_BR.Deaths1.sum()"
   ]
  },
  {
   "cell_type": "code",
   "execution_count": 103,
   "id": "0852dab3",
   "metadata": {},
   "outputs": [],
   "source": [
    "GM2_BR =BR[(BR[\"Cause\"] == \"E750\") |(BR[\"Cause\"] == \"E7500\")\\\n",
    "                |(BR[\"Cause\"] == \"E7501\")|(BR[\"Cause\"] == \"E7502\")\\\n",
    "                |(BR[\"Cause\"] == \"E7509\")]"
   ]
  },
  {
   "cell_type": "code",
   "execution_count": 104,
   "id": "051a587c",
   "metadata": {},
   "outputs": [
    {
     "data": {
      "text/plain": [
       "31"
      ]
     },
     "execution_count": 104,
     "metadata": {},
     "output_type": "execute_result"
    }
   ],
   "source": [
    "GM2_BR.Deaths1.sum()"
   ]
  },
  {
   "cell_type": "code",
   "execution_count": 105,
   "id": "35a3eb9b",
   "metadata": {},
   "outputs": [],
   "source": [
    "PN_BR=BR [(BR[\"Cause\"]==\"L281\")]"
   ]
  },
  {
   "cell_type": "code",
   "execution_count": 106,
   "id": "9a326481",
   "metadata": {},
   "outputs": [
    {
     "data": {
      "text/plain": [
       "0"
      ]
     },
     "execution_count": 106,
     "metadata": {},
     "output_type": "execute_result"
    }
   ],
   "source": [
    "PN_BR.Deaths1.sum()"
   ]
  },
  {
   "cell_type": "code",
   "execution_count": 107,
   "id": "f60292de",
   "metadata": {},
   "outputs": [],
   "source": [
    "ISR=df[df[\"Country\"]==3150]"
   ]
  },
  {
   "cell_type": "code",
   "execution_count": 108,
   "id": "3d76af52",
   "metadata": {},
   "outputs": [],
   "source": [
    "PN_ISR=ISR [(ISR[\"Cause\"]==\"L281\")]"
   ]
  },
  {
   "cell_type": "code",
   "execution_count": 109,
   "id": "4851f918",
   "metadata": {},
   "outputs": [
    {
     "data": {
      "text/plain": [
       "0"
      ]
     },
     "execution_count": 109,
     "metadata": {},
     "output_type": "execute_result"
    }
   ],
   "source": [
    "PN_ISR.Deaths1.sum()"
   ]
  },
  {
   "cell_type": "code",
   "execution_count": 110,
   "id": "ba0293f3",
   "metadata": {},
   "outputs": [],
   "source": [
    "GM2_ISR =ISR[(ISR[\"Cause\"] == \"E750\") |(ISR[\"Cause\"] == \"E7500\")\\\n",
    "                |(ISR[\"Cause\"] == \"E7501\")|(ISR[\"Cause\"] == \"E7502\")\\\n",
    "                |(ISR[\"Cause\"] == \"E7509\")]"
   ]
  },
  {
   "cell_type": "code",
   "execution_count": 111,
   "id": "b5f01f85",
   "metadata": {},
   "outputs": [
    {
     "data": {
      "text/plain": [
       "5"
      ]
     },
     "execution_count": 111,
     "metadata": {},
     "output_type": "execute_result"
    }
   ],
   "source": [
    "GM2_ISR.Deaths1.sum()"
   ]
  },
  {
   "cell_type": "code",
   "execution_count": 112,
   "id": "4d4f7aba",
   "metadata": {},
   "outputs": [],
   "source": [
    "CKD_ISR=ISR[(ISR[\"Cause\"]==\"N181\")|(ISR[\"Cause\"]==\"N182\")\\\n",
    "           |(ISR[\"Cause\"]==\"N183\")|(ISR[\"Cause\"]==\"N184\")]"
   ]
  },
  {
   "cell_type": "code",
   "execution_count": 113,
   "id": "23bf94fb",
   "metadata": {},
   "outputs": [
    {
     "data": {
      "text/plain": [
       "12"
      ]
     },
     "execution_count": 113,
     "metadata": {},
     "output_type": "execute_result"
    }
   ],
   "source": [
    "CKD_ISR.Deaths1.sum()"
   ]
  },
  {
   "cell_type": "code",
   "execution_count": 114,
   "id": "ab49fc4a",
   "metadata": {},
   "outputs": [],
   "source": [
    "LiverDisease_ISR= ISR[(ISR[\"Cause\"]==\"I2601\")|(ISR[\"Cause\"]==\"I2609\")\\\n",
    "                     |(ISR[\"Cause\"]==\"I2693\")|(ISR[\"Cause\"]==\"I2694\")\\\n",
    "                     |(ISR[\"Cause\"]==\"I260\")|(ISR[\"Cause\"]==\"I2602\")\\\n",
    "                     |(ISR[\"Cause\"]==\"I269\")|(ISR[\"Cause\"]==\"I2690\")\\\n",
    "                     |(ISR[\"Cause\"]==\"I2692\")|(ISR[\"Cause\"]==\"I2699\")\\\n",
    "                     |(ISR[\"Cause\"]==\"I26\")\n",
    "                     ]"
   ]
  },
  {
   "cell_type": "code",
   "execution_count": 115,
   "id": "e28e3c48",
   "metadata": {},
   "outputs": [
    {
     "data": {
      "text/plain": [
       "537"
      ]
     },
     "execution_count": 115,
     "metadata": {},
     "output_type": "execute_result"
    }
   ],
   "source": [
    "LiverDisease_ISR.Deaths1.sum()"
   ]
  },
  {
   "cell_type": "code",
   "execution_count": 116,
   "id": "730dd6f9",
   "metadata": {},
   "outputs": [],
   "source": [
    "Asthma_ISR=ISR[(ISR[\"Cause\"]==\"J441\")|(ISR[\"Cause\"]==\"J449\")\\\n",
    "              |(ISR[\"Cause\"]==\"J4532\")|(ISR[\"Cause\"]==\"J4552\")\\\n",
    "              |(ISR[\"Cause\"]==\"J4531\")|(ISR[\"Cause\"]==\"J4550\")\\\n",
    "              |(ISR[\"Cause\"]==\"J45901\")|(ISR[\"Cause\"]==\"J45990\")\\\n",
    "              |(ISR[\"Cause\"]==\"J440\")|(ISR[\"Cause\"]==\"J4542\")\\\n",
    "              |(ISR[\"Cause\"]==\"J45902\")|(ISR[\"Cause\"]==\"J45991\")\\\n",
    "              |(ISR[\"Cause\"]==\"J4520\")|(ISR[\"Cause\"]==\"J4521\")\\\n",
    "              |(ISR[\"Cause\"]==\"J45998\")|(ISR[\"Cause\"]==\"J4530\")\\\n",
    "              |(ISR[\"Cause\"]==\"J4540\")|(ISR[\"Cause\"]==\"J4541\")\\\n",
    "              |(ISR[\"Cause\"]==\"J4551\")|(ISR[\"Cause\"]==\"J45909\")\\\n",
    "              |(ISR[\"Cause\"]==\"J4522\")]"
   ]
  },
  {
   "cell_type": "code",
   "execution_count": 117,
   "id": "858e0a89",
   "metadata": {},
   "outputs": [
    {
     "data": {
      "text/plain": [
       "4513"
      ]
     },
     "execution_count": 117,
     "metadata": {},
     "output_type": "execute_result"
    }
   ],
   "source": [
    "Asthma_ISR.Deaths1.sum()"
   ]
  },
  {
   "cell_type": "code",
   "execution_count": 118,
   "id": "80559f86",
   "metadata": {},
   "outputs": [],
   "source": [
    "JPN=df[df[\"Country\"]==3160]"
   ]
  },
  {
   "cell_type": "code",
   "execution_count": 119,
   "id": "d0764c0d",
   "metadata": {},
   "outputs": [],
   "source": [
    "Asthma_JPN=JPN[(JPN[\"Cause\"]==\"J441\")|(JPN[\"Cause\"]==\"J449\")\\\n",
    "              |(JPN[\"Cause\"]==\"J4532\")|(JPN[\"Cause\"]==\"J4552\")\\\n",
    "              |(JPN[\"Cause\"]==\"J4531\")|(JPN[\"Cause\"]==\"J4550\")\\\n",
    "              |(JPN[\"Cause\"]==\"J45901\")|(JPN[\"Cause\"]==\"J45990\")\\\n",
    "              |(JPN[\"Cause\"]==\"J440\")|(JPN[\"Cause\"]==\"J4542\")\\\n",
    "              |(JPN[\"Cause\"]==\"J45902\")|(JPN[\"Cause\"]==\"J45991\")\\\n",
    "              |(JPN[\"Cause\"]==\"J4520\")|(JPN[\"Cause\"]==\"J4521\")\\\n",
    "              |(JPN[\"Cause\"]==\"J45998\")|(JPN[\"Cause\"]==\"J4530\")\\\n",
    "              |(JPN[\"Cause\"]==\"J4540\")|(JPN[\"Cause\"]==\"J4541\")\\\n",
    "              |(JPN[\"Cause\"]==\"J4551\")|(JPN[\"Cause\"]==\"J45909\")\\\n",
    "              |(JPN[\"Cause\"]==\"J4522\")]"
   ]
  },
  {
   "cell_type": "code",
   "execution_count": 120,
   "id": "d0b52af8",
   "metadata": {},
   "outputs": [
    {
     "data": {
      "text/plain": [
       "37624"
      ]
     },
     "execution_count": 120,
     "metadata": {},
     "output_type": "execute_result"
    }
   ],
   "source": [
    "Asthma_JPN.Deaths1.sum()"
   ]
  },
  {
   "cell_type": "code",
   "execution_count": 121,
   "id": "db85500c",
   "metadata": {},
   "outputs": [],
   "source": [
    "LiverDisease_JPN= JPN[(JPN[\"Cause\"]==\"I2601\")|(JPN[\"Cause\"]==\"I2609\")\\\n",
    "                     |(JPN[\"Cause\"]==\"I2693\")|(JPN[\"Cause\"]==\"I2694\")\\\n",
    "                     |(JPN[\"Cause\"]==\"I260\")|(JPN[\"Cause\"]==\"I2602\")\\\n",
    "                     |(JPN[\"Cause\"]==\"I269\")|(JPN[\"Cause\"]==\"I2690\")\\\n",
    "                     |(JPN[\"Cause\"]==\"I2692\")|(JPN[\"Cause\"]==\"I2699\")\\\n",
    "                     |(JPN[\"Cause\"]==\"I26\")\n",
    "                     ]"
   ]
  },
  {
   "cell_type": "code",
   "execution_count": 122,
   "id": "5c03d2b7",
   "metadata": {},
   "outputs": [
    {
     "data": {
      "text/plain": [
       "6206"
      ]
     },
     "execution_count": 122,
     "metadata": {},
     "output_type": "execute_result"
    }
   ],
   "source": [
    "LiverDisease_JPN.Deaths1.sum()"
   ]
  },
  {
   "cell_type": "code",
   "execution_count": 123,
   "id": "1af665d4",
   "metadata": {},
   "outputs": [],
   "source": [
    "CKD_JPN=JPN[(JPN[\"Cause\"]==\"N181\")|(JPN[\"Cause\"]==\"N182\")\\\n",
    "           |(JPN[\"Cause\"]==\"N183\")|(JPN[\"Cause\"]==\"N184\")]"
   ]
  },
  {
   "cell_type": "code",
   "execution_count": 124,
   "id": "1029eeeb",
   "metadata": {},
   "outputs": [
    {
     "data": {
      "text/plain": [
       "30"
      ]
     },
     "execution_count": 124,
     "metadata": {},
     "output_type": "execute_result"
    }
   ],
   "source": [
    "CKD_JPN.Deaths1.sum()"
   ]
  },
  {
   "cell_type": "code",
   "execution_count": 125,
   "id": "cc145668",
   "metadata": {},
   "outputs": [],
   "source": [
    "GM2_JPN =JPN[(JPN[\"Cause\"] == \"E750\") |(JPN[\"Cause\"] == \"E7500\")\\\n",
    "                |(JPN[\"Cause\"] == \"E7501\")|(JPN[\"Cause\"] == \"E7502\")\\\n",
    "                |(JPN[\"Cause\"] == \"E7509\")]"
   ]
  },
  {
   "cell_type": "code",
   "execution_count": 126,
   "id": "e52a324c",
   "metadata": {},
   "outputs": [
    {
     "data": {
      "text/plain": [
       "7"
      ]
     },
     "execution_count": 126,
     "metadata": {},
     "output_type": "execute_result"
    }
   ],
   "source": [
    "GM2_JPN.Deaths1.sum()"
   ]
  },
  {
   "cell_type": "code",
   "execution_count": 127,
   "id": "a58d56aa",
   "metadata": {},
   "outputs": [],
   "source": [
    "PN_JPN=JPN [(JPN[\"Cause\"]==\"L281\")]"
   ]
  },
  {
   "cell_type": "code",
   "execution_count": 128,
   "id": "59a23b27",
   "metadata": {},
   "outputs": [
    {
     "data": {
      "text/plain": [
       "0"
      ]
     },
     "execution_count": 128,
     "metadata": {},
     "output_type": "execute_result"
    }
   ],
   "source": [
    "PN_JPN.Deaths1.sum()"
   ]
  },
  {
   "cell_type": "code",
   "execution_count": 129,
   "id": "d6abf09e",
   "metadata": {},
   "outputs": [],
   "source": [
    "TUR=df[df[\"Country\"]==3400]"
   ]
  },
  {
   "cell_type": "code",
   "execution_count": 130,
   "id": "0a2a2247",
   "metadata": {},
   "outputs": [],
   "source": [
    "PN_TUR=TUR [(TUR[\"Cause\"]==\"L281\")]"
   ]
  },
  {
   "cell_type": "code",
   "execution_count": 131,
   "id": "b088a588",
   "metadata": {},
   "outputs": [
    {
     "data": {
      "text/plain": [
       "0"
      ]
     },
     "execution_count": 131,
     "metadata": {},
     "output_type": "execute_result"
    }
   ],
   "source": [
    "PN_TUR.Deaths1.sum()"
   ]
  },
  {
   "cell_type": "code",
   "execution_count": 132,
   "id": "07a8c44a",
   "metadata": {},
   "outputs": [],
   "source": [
    "GM2_TUR =TUR[(TUR[\"Cause\"] == \"E750\") |(TUR[\"Cause\"] == \"E7500\")\\\n",
    "                |(TUR[\"Cause\"] == \"E7501\")|(TUR[\"Cause\"] == \"E7502\")\\\n",
    "                |(TUR[\"Cause\"] == \"E7509\")]"
   ]
  },
  {
   "cell_type": "code",
   "execution_count": 133,
   "id": "50da9e16",
   "metadata": {},
   "outputs": [
    {
     "data": {
      "text/plain": [
       "13"
      ]
     },
     "execution_count": 133,
     "metadata": {},
     "output_type": "execute_result"
    }
   ],
   "source": [
    "GM2_TUR.Deaths1.sum()"
   ]
  },
  {
   "cell_type": "code",
   "execution_count": 134,
   "id": "21dce195",
   "metadata": {},
   "outputs": [],
   "source": [
    "CKD_TUR=TUR[(TUR[\"Cause\"]==\"N181\")|(TUR[\"Cause\"]==\"N182\")\\\n",
    "           |(TUR[\"Cause\"]==\"N183\")|(TUR[\"Cause\"]==\"N184\")]"
   ]
  },
  {
   "cell_type": "code",
   "execution_count": 135,
   "id": "282eefbb",
   "metadata": {},
   "outputs": [
    {
     "data": {
      "text/plain": [
       "0"
      ]
     },
     "execution_count": 135,
     "metadata": {},
     "output_type": "execute_result"
    }
   ],
   "source": [
    "CKD_TUR.Deaths1.sum()"
   ]
  },
  {
   "cell_type": "code",
   "execution_count": 136,
   "id": "d09eccd4",
   "metadata": {},
   "outputs": [],
   "source": [
    "LiverDisease_TUR= TUR[(TUR[\"Cause\"]==\"I2601\")|(TUR[\"Cause\"]==\"I2609\")\\\n",
    "                     |(TUR[\"Cause\"]==\"I2693\")|(TUR[\"Cause\"]==\"I2694\")\\\n",
    "                     |(TUR[\"Cause\"]==\"I260\")|(TUR[\"Cause\"]==\"I2602\")\\\n",
    "                     |(TUR[\"Cause\"]==\"I269\")|(TUR[\"Cause\"]==\"I2690\")\\\n",
    "                     |(TUR[\"Cause\"]==\"I2692\")|(TUR[\"Cause\"]==\"I2699\")\\\n",
    "                     |(TUR[\"Cause\"]==\"I26\")\n",
    "                     ]"
   ]
  },
  {
   "cell_type": "code",
   "execution_count": 137,
   "id": "4d0abe4b",
   "metadata": {},
   "outputs": [
    {
     "data": {
      "text/plain": [
       "6032"
      ]
     },
     "execution_count": 137,
     "metadata": {},
     "output_type": "execute_result"
    }
   ],
   "source": [
    "LiverDisease_TUR.Deaths1.sum()"
   ]
  },
  {
   "cell_type": "code",
   "execution_count": 138,
   "id": "0bd80da3",
   "metadata": {},
   "outputs": [],
   "source": [
    "Asthma_TUR=TUR[(TUR[\"Cause\"]==\"J441\")|(TUR[\"Cause\"]==\"J449\")\\\n",
    "              |(TUR[\"Cause\"]==\"J4532\")|(TUR[\"Cause\"]==\"J4552\")\\\n",
    "              |(TUR[\"Cause\"]==\"J4531\")|(TUR[\"Cause\"]==\"J4550\")\\\n",
    "              |(TUR[\"Cause\"]==\"J45901\")|(TUR[\"Cause\"]==\"J45990\")\\\n",
    "              |(TUR[\"Cause\"]==\"J440\")|(TUR[\"Cause\"]==\"J4542\")\\\n",
    "              |(TUR[\"Cause\"]==\"J45902\")|(TUR[\"Cause\"]==\"J45991\")\\\n",
    "              |(TUR[\"Cause\"]==\"J4520\")|(TUR[\"Cause\"]==\"J4521\")\\\n",
    "              |(TUR[\"Cause\"]==\"J45998\")|(TUR[\"Cause\"]==\"J4530\")\\\n",
    "              |(TUR[\"Cause\"]==\"J4540\")|(TUR[\"Cause\"]==\"J4541\")\\\n",
    "              |(TUR[\"Cause\"]==\"J4551\")|(TUR[\"Cause\"]==\"J45909\")\\\n",
    "              |(TUR[\"Cause\"]==\"J4522\")]"
   ]
  },
  {
   "cell_type": "code",
   "execution_count": 139,
   "id": "d6a97aed",
   "metadata": {},
   "outputs": [
    {
     "data": {
      "text/plain": [
       "65603"
      ]
     },
     "execution_count": 139,
     "metadata": {},
     "output_type": "execute_result"
    }
   ],
   "source": [
    "Asthma_TUR.Deaths1.sum()"
   ]
  },
  {
   "cell_type": "markdown",
   "id": "b4fc9ce5",
   "metadata": {},
   "source": [
    "### Getting the total deaths of Asthma for each gender"
   ]
  },
  {
   "cell_type": "code",
   "execution_count": 140,
   "id": "212a7af6",
   "metadata": {},
   "outputs": [],
   "source": [
    "Asthma_TURF=Asthma_TUR[Asthma_TUR[\"Sex\"]==\"female\"]"
   ]
  },
  {
   "cell_type": "code",
   "execution_count": 141,
   "id": "21635817",
   "metadata": {},
   "outputs": [
    {
     "data": {
      "text/html": [
       "<div>\n",
       "<style scoped>\n",
       "    .dataframe tbody tr th:only-of-type {\n",
       "        vertical-align: middle;\n",
       "    }\n",
       "\n",
       "    .dataframe tbody tr th {\n",
       "        vertical-align: top;\n",
       "    }\n",
       "\n",
       "    .dataframe thead th {\n",
       "        text-align: right;\n",
       "    }\n",
       "</style>\n",
       "<table border=\"1\" class=\"dataframe\">\n",
       "  <thead>\n",
       "    <tr style=\"text-align: right;\">\n",
       "      <th></th>\n",
       "      <th>Country</th>\n",
       "      <th>Year</th>\n",
       "      <th>List</th>\n",
       "      <th>Cause</th>\n",
       "      <th>Sex</th>\n",
       "      <th>Deaths1</th>\n",
       "    </tr>\n",
       "  </thead>\n",
       "  <tbody>\n",
       "    <tr>\n",
       "      <th>177402</th>\n",
       "      <td>3400</td>\n",
       "      <td>2019</td>\n",
       "      <td>104</td>\n",
       "      <td>J440</td>\n",
       "      <td>female</td>\n",
       "      <td>2889</td>\n",
       "    </tr>\n",
       "    <tr>\n",
       "      <th>177404</th>\n",
       "      <td>3400</td>\n",
       "      <td>2019</td>\n",
       "      <td>104</td>\n",
       "      <td>J441</td>\n",
       "      <td>female</td>\n",
       "      <td>1080</td>\n",
       "    </tr>\n",
       "    <tr>\n",
       "      <th>177408</th>\n",
       "      <td>3400</td>\n",
       "      <td>2019</td>\n",
       "      <td>104</td>\n",
       "      <td>J449</td>\n",
       "      <td>female</td>\n",
       "      <td>3516</td>\n",
       "    </tr>\n",
       "    <tr>\n",
       "      <th>625090</th>\n",
       "      <td>3400</td>\n",
       "      <td>2018</td>\n",
       "      <td>104</td>\n",
       "      <td>J440</td>\n",
       "      <td>female</td>\n",
       "      <td>3148</td>\n",
       "    </tr>\n",
       "    <tr>\n",
       "      <th>625092</th>\n",
       "      <td>3400</td>\n",
       "      <td>2018</td>\n",
       "      <td>104</td>\n",
       "      <td>J441</td>\n",
       "      <td>female</td>\n",
       "      <td>898</td>\n",
       "    </tr>\n",
       "    <tr>\n",
       "      <th>625096</th>\n",
       "      <td>3400</td>\n",
       "      <td>2018</td>\n",
       "      <td>104</td>\n",
       "      <td>J449</td>\n",
       "      <td>female</td>\n",
       "      <td>3674</td>\n",
       "    </tr>\n",
       "    <tr>\n",
       "      <th>629965</th>\n",
       "      <td>3400</td>\n",
       "      <td>2017</td>\n",
       "      <td>104</td>\n",
       "      <td>J440</td>\n",
       "      <td>female</td>\n",
       "      <td>3247</td>\n",
       "    </tr>\n",
       "    <tr>\n",
       "      <th>629967</th>\n",
       "      <td>3400</td>\n",
       "      <td>2017</td>\n",
       "      <td>104</td>\n",
       "      <td>J441</td>\n",
       "      <td>female</td>\n",
       "      <td>867</td>\n",
       "    </tr>\n",
       "    <tr>\n",
       "      <th>629971</th>\n",
       "      <td>3400</td>\n",
       "      <td>2017</td>\n",
       "      <td>104</td>\n",
       "      <td>J449</td>\n",
       "      <td>female</td>\n",
       "      <td>3765</td>\n",
       "    </tr>\n",
       "  </tbody>\n",
       "</table>\n",
       "</div>"
      ],
      "text/plain": [
       "        Country  Year List Cause     Sex  Deaths1\n",
       "177402     3400  2019  104  J440  female     2889\n",
       "177404     3400  2019  104  J441  female     1080\n",
       "177408     3400  2019  104  J449  female     3516\n",
       "625090     3400  2018  104  J440  female     3148\n",
       "625092     3400  2018  104  J441  female      898\n",
       "625096     3400  2018  104  J449  female     3674\n",
       "629965     3400  2017  104  J440  female     3247\n",
       "629967     3400  2017  104  J441  female      867\n",
       "629971     3400  2017  104  J449  female     3765"
      ]
     },
     "execution_count": 141,
     "metadata": {},
     "output_type": "execute_result"
    }
   ],
   "source": [
    "Asthma_TURF"
   ]
  },
  {
   "cell_type": "code",
   "execution_count": 142,
   "id": "77e8fbbf",
   "metadata": {},
   "outputs": [
    {
     "data": {
      "text/plain": [
       "23084"
      ]
     },
     "execution_count": 142,
     "metadata": {},
     "output_type": "execute_result"
    }
   ],
   "source": [
    "Asthma_TURF.Deaths1.sum()"
   ]
  },
  {
   "cell_type": "code",
   "execution_count": 143,
   "id": "8ebd2628",
   "metadata": {},
   "outputs": [],
   "source": [
    "Asthma_TURM=Asthma_TUR[Asthma_TUR[\"Sex\"]==\"male\"]"
   ]
  },
  {
   "cell_type": "code",
   "execution_count": 144,
   "id": "be31b92b",
   "metadata": {},
   "outputs": [
    {
     "data": {
      "text/plain": [
       "42519"
      ]
     },
     "execution_count": 144,
     "metadata": {},
     "output_type": "execute_result"
    }
   ],
   "source": [
    "Asthma_TURM.Deaths1.sum()"
   ]
  },
  {
   "cell_type": "code",
   "execution_count": 145,
   "id": "1a1c6190",
   "metadata": {},
   "outputs": [],
   "source": [
    "Asthma_USAM=Asthma_USA[Asthma_USA[\"Sex\"]==\"male\"]"
   ]
  },
  {
   "cell_type": "code",
   "execution_count": 146,
   "id": "b5c2c4ee",
   "metadata": {},
   "outputs": [
    {
     "data": {
      "text/plain": [
       "271719"
      ]
     },
     "execution_count": 146,
     "metadata": {},
     "output_type": "execute_result"
    }
   ],
   "source": [
    "Asthma_USAM.Deaths1.sum()"
   ]
  },
  {
   "cell_type": "code",
   "execution_count": 147,
   "id": "4f904acb",
   "metadata": {},
   "outputs": [],
   "source": [
    "Asthma_USAF=Asthma_USA[Asthma_USA[\"Sex\"]==\"female\"]"
   ]
  },
  {
   "cell_type": "code",
   "execution_count": 148,
   "id": "69b632ee",
   "metadata": {},
   "outputs": [
    {
     "data": {
      "text/plain": [
       "302697"
      ]
     },
     "execution_count": 148,
     "metadata": {},
     "output_type": "execute_result"
    }
   ],
   "source": [
    "Asthma_USAF.Deaths1.sum()"
   ]
  },
  {
   "cell_type": "code",
   "execution_count": 149,
   "id": "c35403e3",
   "metadata": {},
   "outputs": [],
   "source": [
    "Asthma_FRAM=Asthma_FRA[Asthma_FRA[\"Sex\"]==\"male\"]"
   ]
  },
  {
   "cell_type": "code",
   "execution_count": 150,
   "id": "a98d95bb",
   "metadata": {},
   "outputs": [
    {
     "data": {
      "text/plain": [
       "5263"
      ]
     },
     "execution_count": 150,
     "metadata": {},
     "output_type": "execute_result"
    }
   ],
   "source": [
    "Asthma_FRAM.Deaths1.sum()"
   ]
  },
  {
   "cell_type": "code",
   "execution_count": 151,
   "id": "e1f257dd",
   "metadata": {},
   "outputs": [],
   "source": [
    "Asthma_FRAF=Asthma_FRA[Asthma_FRA[\"Sex\"]==\"female\"]"
   ]
  },
  {
   "cell_type": "code",
   "execution_count": 152,
   "id": "730db8a1",
   "metadata": {},
   "outputs": [
    {
     "data": {
      "text/plain": [
       "3234"
      ]
     },
     "execution_count": 152,
     "metadata": {},
     "output_type": "execute_result"
    }
   ],
   "source": [
    "Asthma_FRAF.Deaths1.sum()"
   ]
  },
  {
   "cell_type": "code",
   "execution_count": 153,
   "id": "41f2e5ce",
   "metadata": {},
   "outputs": [],
   "source": [
    "Asthma_GMRM=Asthma_GMR[Asthma_GMR[\"Sex\"]==\"male\"]"
   ]
  },
  {
   "cell_type": "code",
   "execution_count": 154,
   "id": "c9260cce",
   "metadata": {},
   "outputs": [
    {
     "data": {
      "text/plain": [
       "66419"
      ]
     },
     "execution_count": 154,
     "metadata": {},
     "output_type": "execute_result"
    }
   ],
   "source": [
    "Asthma_GMRM.Deaths1.sum()"
   ]
  },
  {
   "cell_type": "code",
   "execution_count": 155,
   "id": "d2c1fcde",
   "metadata": {},
   "outputs": [],
   "source": [
    "Asthma_GMRF=Asthma_GMR[Asthma_GMR[\"Sex\"]==\"female\"]"
   ]
  },
  {
   "cell_type": "code",
   "execution_count": 156,
   "id": "1d48646b",
   "metadata": {},
   "outputs": [
    {
     "data": {
      "text/plain": [
       "55968"
      ]
     },
     "execution_count": 156,
     "metadata": {},
     "output_type": "execute_result"
    }
   ],
   "source": [
    "Asthma_GMRF.Deaths1.sum()"
   ]
  },
  {
   "cell_type": "code",
   "execution_count": 157,
   "id": "41df035c",
   "metadata": {},
   "outputs": [],
   "source": [
    "Asthma_ITAF=Asthma_ITA[Asthma_ITA[\"Sex\"]==\"female\"]"
   ]
  },
  {
   "cell_type": "code",
   "execution_count": 158,
   "id": "afca8b8c",
   "metadata": {},
   "outputs": [
    {
     "data": {
      "text/plain": [
       "9022"
      ]
     },
     "execution_count": 158,
     "metadata": {},
     "output_type": "execute_result"
    }
   ],
   "source": [
    "Asthma_ITAF.Deaths1.sum()"
   ]
  },
  {
   "cell_type": "code",
   "execution_count": 159,
   "id": "b9887716",
   "metadata": {},
   "outputs": [],
   "source": [
    "Asthma_ITAM=Asthma_ITA[Asthma_ITA[\"Sex\"]==\"male\"]"
   ]
  },
  {
   "cell_type": "code",
   "execution_count": 160,
   "id": "2f69da01",
   "metadata": {},
   "outputs": [
    {
     "data": {
      "text/plain": [
       "12455"
      ]
     },
     "execution_count": 160,
     "metadata": {},
     "output_type": "execute_result"
    }
   ],
   "source": [
    "Asthma_ITAM.Deaths1.sum()"
   ]
  },
  {
   "cell_type": "code",
   "execution_count": 161,
   "id": "b23a8371",
   "metadata": {},
   "outputs": [],
   "source": [
    "Asthma_ESPM=Asthma_ESP[Asthma_ESP[\"Sex\"]==\"male\"]"
   ]
  },
  {
   "cell_type": "code",
   "execution_count": 162,
   "id": "9d47bfb4",
   "metadata": {},
   "outputs": [
    {
     "data": {
      "text/plain": [
       "39838"
      ]
     },
     "execution_count": 162,
     "metadata": {},
     "output_type": "execute_result"
    }
   ],
   "source": [
    "Asthma_ESPM.Deaths1.sum()"
   ]
  },
  {
   "cell_type": "code",
   "execution_count": 163,
   "id": "b4ed5c5d",
   "metadata": {},
   "outputs": [],
   "source": [
    "Asthma_ESPF=Asthma_ESP[Asthma_ESP[\"Sex\"]==\"female\"]"
   ]
  },
  {
   "cell_type": "code",
   "execution_count": 164,
   "id": "c2a598f6",
   "metadata": {},
   "outputs": [
    {
     "data": {
      "text/plain": [
       "10843"
      ]
     },
     "execution_count": 164,
     "metadata": {},
     "output_type": "execute_result"
    }
   ],
   "source": [
    "Asthma_ESPF.Deaths1.sum()"
   ]
  },
  {
   "cell_type": "code",
   "execution_count": 165,
   "id": "927480cc",
   "metadata": {},
   "outputs": [],
   "source": [
    "Asthma_UKM=Asthma_UK[Asthma_UK[\"Sex\"]==\"male\"]"
   ]
  },
  {
   "cell_type": "code",
   "execution_count": 166,
   "id": "cf83178c",
   "metadata": {},
   "outputs": [
    {
     "data": {
      "text/plain": [
       "60143"
      ]
     },
     "execution_count": 166,
     "metadata": {},
     "output_type": "execute_result"
    }
   ],
   "source": [
    "Asthma_UKM.Deaths1.sum()"
   ]
  },
  {
   "cell_type": "code",
   "execution_count": 167,
   "id": "5a56bb0d",
   "metadata": {},
   "outputs": [],
   "source": [
    "Asthma_UKF=Asthma_UK[Asthma_UK[\"Sex\"]==\"female\"]"
   ]
  },
  {
   "cell_type": "code",
   "execution_count": 168,
   "id": "f78bfd3d",
   "metadata": {},
   "outputs": [
    {
     "data": {
      "text/plain": [
       "59634"
      ]
     },
     "execution_count": 168,
     "metadata": {},
     "output_type": "execute_result"
    }
   ],
   "source": [
    "Asthma_UKF.Deaths1.sum()"
   ]
  },
  {
   "cell_type": "code",
   "execution_count": 169,
   "id": "e4302066",
   "metadata": {},
   "outputs": [],
   "source": [
    "Asthma_ARGF=Asthma_ARG[Asthma_ARG[\"Sex\"]==\"female\"]"
   ]
  },
  {
   "cell_type": "code",
   "execution_count": 170,
   "id": "daf716ab",
   "metadata": {},
   "outputs": [
    {
     "data": {
      "text/plain": [
       "8874"
      ]
     },
     "execution_count": 170,
     "metadata": {},
     "output_type": "execute_result"
    }
   ],
   "source": [
    "Asthma_ARGF.Deaths1.sum()"
   ]
  },
  {
   "cell_type": "code",
   "execution_count": 171,
   "id": "986fc459",
   "metadata": {},
   "outputs": [],
   "source": [
    "Asthma_ARGM=Asthma_ARG[Asthma_ARG[\"Sex\"]==\"male\"]"
   ]
  },
  {
   "cell_type": "code",
   "execution_count": 172,
   "id": "1eb6001b",
   "metadata": {},
   "outputs": [
    {
     "data": {
      "text/plain": [
       "13782"
      ]
     },
     "execution_count": 172,
     "metadata": {},
     "output_type": "execute_result"
    }
   ],
   "source": [
    "Asthma_ARGM.Deaths1.sum()"
   ]
  },
  {
   "cell_type": "code",
   "execution_count": 173,
   "id": "f0f21216",
   "metadata": {},
   "outputs": [],
   "source": [
    "Asthma_BRF=Asthma_BR[Asthma_BR[\"Sex\"]==\"female\"]"
   ]
  },
  {
   "cell_type": "code",
   "execution_count": 174,
   "id": "e197007d",
   "metadata": {},
   "outputs": [
    {
     "data": {
      "text/plain": [
       "68579"
      ]
     },
     "execution_count": 174,
     "metadata": {},
     "output_type": "execute_result"
    }
   ],
   "source": [
    "Asthma_BRF.Deaths1.sum()"
   ]
  },
  {
   "cell_type": "code",
   "execution_count": 175,
   "id": "d8c6b7a3",
   "metadata": {},
   "outputs": [],
   "source": [
    "Asthma_BRM=Asthma_BR[Asthma_BR[\"Sex\"]==\"male\"]"
   ]
  },
  {
   "cell_type": "code",
   "execution_count": 176,
   "id": "de5ecb16",
   "metadata": {},
   "outputs": [
    {
     "data": {
      "text/plain": [
       "81991"
      ]
     },
     "execution_count": 176,
     "metadata": {},
     "output_type": "execute_result"
    }
   ],
   "source": [
    "Asthma_BRM.Deaths1.sum()"
   ]
  },
  {
   "cell_type": "code",
   "execution_count": 177,
   "id": "11db482e",
   "metadata": {},
   "outputs": [],
   "source": [
    "Asthma_ISRF=Asthma_ISR[Asthma_ISR[\"Sex\"]==\"female\"]"
   ]
  },
  {
   "cell_type": "code",
   "execution_count": 178,
   "id": "e0d57d8e",
   "metadata": {},
   "outputs": [
    {
     "data": {
      "text/plain": [
       "1907"
      ]
     },
     "execution_count": 178,
     "metadata": {},
     "output_type": "execute_result"
    }
   ],
   "source": [
    "Asthma_ISRF.Deaths1.sum()"
   ]
  },
  {
   "cell_type": "code",
   "execution_count": 179,
   "id": "5ee08eab",
   "metadata": {},
   "outputs": [],
   "source": [
    "Asthma_ISRM=Asthma_ISR[Asthma_ISR[\"Sex\"]==\"male\"]"
   ]
  },
  {
   "cell_type": "code",
   "execution_count": 180,
   "id": "385a893b",
   "metadata": {},
   "outputs": [
    {
     "data": {
      "text/plain": [
       "2606"
      ]
     },
     "execution_count": 180,
     "metadata": {},
     "output_type": "execute_result"
    }
   ],
   "source": [
    "Asthma_ISRM.Deaths1.sum()"
   ]
  },
  {
   "cell_type": "code",
   "execution_count": 181,
   "id": "ad7b418f",
   "metadata": {},
   "outputs": [],
   "source": [
    "Asthma_JPNF=Asthma_JPN[Asthma_JPN[\"Sex\"]==\"female\"]"
   ]
  },
  {
   "cell_type": "code",
   "execution_count": 182,
   "id": "1e2e3ee6",
   "metadata": {},
   "outputs": [
    {
     "data": {
      "text/plain": [
       "5963"
      ]
     },
     "execution_count": 182,
     "metadata": {},
     "output_type": "execute_result"
    }
   ],
   "source": [
    "Asthma_JPNF.Deaths1.sum()"
   ]
  },
  {
   "cell_type": "code",
   "execution_count": 183,
   "id": "36e2bad3",
   "metadata": {},
   "outputs": [],
   "source": [
    "Asthma_JPNM=Asthma_JPN[Asthma_JPN[\"Sex\"]==\"male\"]"
   ]
  },
  {
   "cell_type": "code",
   "execution_count": 184,
   "id": "8893c0f2",
   "metadata": {},
   "outputs": [
    {
     "data": {
      "text/plain": [
       "31661"
      ]
     },
     "execution_count": 184,
     "metadata": {},
     "output_type": "execute_result"
    }
   ],
   "source": [
    "Asthma_JPNM.Deaths1.sum()"
   ]
  },
  {
   "cell_type": "code",
   "execution_count": null,
   "id": "df3925ae",
   "metadata": {},
   "outputs": [],
   "source": []
  }
 ],
 "metadata": {
  "kernelspec": {
   "display_name": "Python 3 (ipykernel)",
   "language": "python",
   "name": "python3"
  },
  "language_info": {
   "codemirror_mode": {
    "name": "ipython",
    "version": 3
   },
   "file_extension": ".py",
   "mimetype": "text/x-python",
   "name": "python",
   "nbconvert_exporter": "python",
   "pygments_lexer": "ipython3",
   "version": "3.9.13"
  }
 },
 "nbformat": 4,
 "nbformat_minor": 5
}
